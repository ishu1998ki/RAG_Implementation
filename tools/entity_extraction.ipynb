{
 "cells": [
  {
   "cell_type": "code",
   "execution_count": 1,
   "id": "initial_id",
   "metadata": {
    "collapsed": true,
    "ExecuteTime": {
     "end_time": "2025-01-06T13:14:46.081402500Z",
     "start_time": "2025-01-06T13:14:41.924103200Z"
    }
   },
   "outputs": [
    {
     "data": {
      "text/plain": "True"
     },
     "execution_count": 1,
     "metadata": {},
     "output_type": "execute_result"
    }
   ],
   "source": [
    "import os\n",
    "\n",
    "from pydantic import BaseModel,Field\n",
    "from langchain_openai import ChatOpenAI\n",
    "from dotenv import load_dotenv\n",
    "\n",
    "load_dotenv()"
   ]
  },
  {
   "cell_type": "code",
   "execution_count": 2,
   "outputs": [],
   "source": [
    "# OpenAI api define\n",
    "os.environ[\"OPENAI_API_KEY\"] = os.getenv(\"OPENAI_API_KEY\")\n",
    "\n",
    "model = ChatOpenAI(model=\"gpt-4o\",base_url=os.getenv(\"base_url\"))"
   ],
   "metadata": {
    "collapsed": false,
    "ExecuteTime": {
     "end_time": "2025-01-06T13:15:31.252085300Z",
     "start_time": "2025-01-06T13:15:31.163608700Z"
    }
   },
   "id": "9fdd32379f3cae87"
  },
  {
   "cell_type": "code",
   "execution_count": 3,
   "outputs": [],
   "source": [
    "# Pydatntic class definition\n",
    "class EntityExtraction(BaseModel):\n",
    "    entities:str=Field(description=\"all the entities in a provided content\")"
   ],
   "metadata": {
    "collapsed": false,
    "ExecuteTime": {
     "end_time": "2024-12-25T08:35:37.150014700Z",
     "start_time": "2024-12-25T08:35:37.089417500Z"
    }
   },
   "id": "7be0673f6b111eb8"
  },
  {
   "cell_type": "code",
   "execution_count": 4,
   "outputs": [],
   "source": [
    "structured_output_model = model.with_structured_output(schema=EntityExtraction)"
   ],
   "metadata": {
    "collapsed": false,
    "ExecuteTime": {
     "end_time": "2024-12-25T08:35:38.971922200Z",
     "start_time": "2024-12-25T08:35:38.650073700Z"
    }
   },
   "id": "9208e7c71cb9cc59"
  },
  {
   "cell_type": "code",
   "execution_count": 5,
   "outputs": [],
   "source": [
    "output=structured_output_model.invoke([{\"role\":\"system\",\"content\":\"extract named entities from the given content\"},{\"role\":\"user\",\"content\":\"In New York City, the iconic statue of Liberty stands tall as a symbol of freedom, attracting millions of tourists annually. The historic monument, gifted by France in 1886, is located on Liberty Island and overlooks the bustling Hudson River. Managed by the National Park Service, the site offers guided tours and educational programs, providing visitors with insights into American history and culture.\"}])"
   ],
   "metadata": {
    "collapsed": false,
    "ExecuteTime": {
     "end_time": "2024-12-25T08:35:45.050099300Z",
     "start_time": "2024-12-25T08:35:42.576325800Z"
    }
   },
   "id": "72579d3de224bd7b"
  },
  {
   "cell_type": "code",
   "execution_count": 6,
   "outputs": [
    {
     "data": {
      "text/plain": "'New York City, Statue of Liberty, France, 1886, Liberty Island, Hudson River, National Park Service, American history and culture'"
     },
     "execution_count": 6,
     "metadata": {},
     "output_type": "execute_result"
    }
   ],
   "source": [
    "output.entities"
   ],
   "metadata": {
    "collapsed": false,
    "ExecuteTime": {
     "end_time": "2024-12-25T08:35:45.957950400Z",
     "start_time": "2024-12-25T08:35:45.886681900Z"
    }
   },
   "id": "d6a6d4384d658015"
  },
  {
   "cell_type": "code",
   "execution_count": null,
   "outputs": [],
   "source": [],
   "metadata": {
    "collapsed": false
   },
   "id": "7d652a645f1533c4"
  }
 ],
 "metadata": {
  "kernelspec": {
   "display_name": "Python 3",
   "language": "python",
   "name": "python3"
  },
  "language_info": {
   "codemirror_mode": {
    "name": "ipython",
    "version": 2
   },
   "file_extension": ".py",
   "mimetype": "text/x-python",
   "name": "python",
   "nbconvert_exporter": "python",
   "pygments_lexer": "ipython2",
   "version": "2.7.6"
  }
 },
 "nbformat": 4,
 "nbformat_minor": 5
}
