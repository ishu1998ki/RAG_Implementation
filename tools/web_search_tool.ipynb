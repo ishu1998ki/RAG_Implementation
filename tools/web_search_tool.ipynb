{
 "cells": [
  {
   "cell_type": "code",
   "execution_count": 1,
   "id": "initial_id",
   "metadata": {
    "collapsed": true,
    "ExecuteTime": {
     "end_time": "2025-01-18T14:56:11.949869400Z",
     "start_time": "2025-01-18T14:56:06.153374900Z"
    }
   },
   "outputs": [
    {
     "data": {
      "text/plain": "True"
     },
     "execution_count": 1,
     "metadata": {},
     "output_type": "execute_result"
    }
   ],
   "source": [
    "import os\n",
    "\n",
    "from langchain_community.tools import TavilySearchResults\n",
    "from langchain_openai import ChatOpenAI\n",
    "from dotenv import load_dotenv\n",
    "\n",
    "load_dotenv()"
   ]
  },
  {
   "cell_type": "code",
   "execution_count": 2,
   "outputs": [],
   "source": [
    "# Web search api define\n",
    "os.environ[\"TAVILY_API_KEY\"] = os.getenv(\"TAVILY_API_KEY\")\n",
    "\n",
    "# Chat model api key define\n",
    "os.environ[\"OPENAI_API_KEY\"] = os.getenv(\"OPENAI_API_KEY\")"
   ],
   "metadata": {
    "collapsed": false,
    "ExecuteTime": {
     "end_time": "2025-01-18T14:56:13.778879200Z",
     "start_time": "2025-01-18T14:56:13.753821100Z"
    }
   },
   "id": "bc2d04ca1ba60a59"
  },
  {
   "cell_type": "code",
   "execution_count": 3,
   "outputs": [],
   "source": [
    "# create TavilySearch instance\n",
    "search = TavilySearchResults(\n",
    "    max_results=5,\n",
    "    search_depth=\"advanced\",\n",
    "    include_answer=True,\n",
    "    include_raw_content=True,\n",
    "    include_images=True,\n",
    "    # include_domains=[...],\n",
    "    # exclude_domains=[...],\n",
    "    # name=\"...\",            # overwrite default tool name\n",
    "    # description=\"...\",     # overwrite default tool description\n",
    "    # args_schema=...,       # overwrite default args_schema: BaseModel\n",
    ")\n",
    "\n",
    "# Create OpenAI instance\n",
    "llm_openai = ChatOpenAI(model=\"gpt-4o\",base_url=os.getenv(\"base_url\"))"
   ],
   "metadata": {
    "collapsed": false,
    "ExecuteTime": {
     "end_time": "2025-01-18T14:56:14.683585300Z",
     "start_time": "2025-01-18T14:56:14.581026600Z"
    }
   },
   "id": "6231ed4428bbe731"
  },
  {
   "cell_type": "code",
   "execution_count": 5,
   "outputs": [],
   "source": [
    "# define tool set\n",
    "tools = [search]"
   ],
   "metadata": {
    "collapsed": false,
    "ExecuteTime": {
     "end_time": "2025-01-18T14:56:43.777364700Z",
     "start_time": "2025-01-18T14:56:43.763872800Z"
    }
   },
   "id": "3e37e13abb15363"
  },
  {
   "cell_type": "code",
   "execution_count": 6,
   "outputs": [],
   "source": [
    "# tool bind use only when need to decide the tool using a LLM call\n",
    "tool_call_llm = llm_openai.bind_tools(tools=tools) "
   ],
   "metadata": {
    "collapsed": false,
    "ExecuteTime": {
     "end_time": "2025-01-18T14:56:44.329206400Z",
     "start_time": "2025-01-18T14:56:44.277397900Z"
    }
   },
   "id": "111500d4bb20702a"
  },
  {
   "cell_type": "code",
   "execution_count": 9,
   "outputs": [],
   "source": [
    "ai_msg = search.invoke({\"query\": \"who is the current president of Sri Lanka\"})\n"
   ],
   "metadata": {
    "collapsed": false,
    "ExecuteTime": {
     "end_time": "2025-01-18T16:13:54.109034700Z",
     "start_time": "2025-01-18T16:13:41.682386900Z"
    }
   },
   "id": "60bd815cf0eba70a"
  },
  {
   "cell_type": "code",
   "execution_count": 10,
   "outputs": [
    {
     "ename": "AttributeError",
     "evalue": "'list' object has no attribute 'tool_calls'",
     "output_type": "error",
     "traceback": [
      "\u001B[1;31m---------------------------------------------------------------------------\u001B[0m",
      "\u001B[1;31mAttributeError\u001B[0m                            Traceback (most recent call last)",
      "Cell \u001B[1;32mIn[10], line 1\u001B[0m\n\u001B[1;32m----> 1\u001B[0m \u001B[43mai_msg\u001B[49m\u001B[38;5;241;43m.\u001B[39;49m\u001B[43mtool_calls\u001B[49m\n",
      "\u001B[1;31mAttributeError\u001B[0m: 'list' object has no attribute 'tool_calls'"
     ]
    }
   ],
   "source": [
    "# need when using LLM to decide the tool\n",
    "ai_msg.tool_calls"
   ],
   "metadata": {
    "collapsed": false,
    "ExecuteTime": {
     "end_time": "2025-01-18T16:13:57.653394500Z",
     "start_time": "2025-01-18T16:13:57.492706100Z"
    }
   },
   "id": "7a9f311a7596197b"
  },
  {
   "cell_type": "code",
   "execution_count": 11,
   "outputs": [
    {
     "ename": "AttributeError",
     "evalue": "'list' object has no attribute 'tool_calls'",
     "output_type": "error",
     "traceback": [
      "\u001B[1;31m---------------------------------------------------------------------------\u001B[0m",
      "\u001B[1;31mAttributeError\u001B[0m                            Traceback (most recent call last)",
      "Cell \u001B[1;32mIn[11], line 1\u001B[0m\n\u001B[1;32m----> 1\u001B[0m search\u001B[38;5;241m.\u001B[39minvoke(\u001B[43mai_msg\u001B[49m\u001B[38;5;241;43m.\u001B[39;49m\u001B[43mtool_calls\u001B[49m[\u001B[38;5;241m0\u001B[39m][\u001B[38;5;124m\"\u001B[39m\u001B[38;5;124margs\u001B[39m\u001B[38;5;124m\"\u001B[39m])\n",
      "\u001B[1;31mAttributeError\u001B[0m: 'list' object has no attribute 'tool_calls'"
     ]
    }
   ],
   "source": [
    "# need when using LLM to decide the tool\n",
    "search.invoke(ai_msg.tool_calls[0][\"args\"])"
   ],
   "metadata": {
    "collapsed": false,
    "ExecuteTime": {
     "end_time": "2025-01-18T16:14:00.361915100Z",
     "start_time": "2025-01-18T16:14:00.315040300Z"
    }
   },
   "id": "70250c904196630b"
  },
  {
   "cell_type": "code",
   "execution_count": 12,
   "outputs": [
    {
     "name": "stdout",
     "output_type": "stream",
     "text": [
      "[{'url': 'https://www.tbsnews.net/world/who-sri-lankas-newly-elected-president-anura-kumara-dissanayake-948426', 'content': \"Who is Sri Lanka’s newly elected president Anura Kumara Dissanayake? Who is Sri Lanka’s newly elected president Anura Kumara Dissanayake? Who is Sri Lanka’s newly elected president Anura Kumara Dissanayake? Sri Lanka's newly elected President Anura Kumara Dissanayake addresses a gathering after taking his oath of office at the Presidential Secretariat, in Colombo, Sri Lanka, 23 September 2024. Anura Kumara Dissanayake, leader of the National People's Power (NPP) alliance, has been elected as Sri Lanka's new president, marking a historic shift in the nation's political landscape. Athulasiri Samarakoon, a senior lecturer in political science at the Open University of Sri Lanka, told the BBC that restoring economic stability would be the new president's primary challenge. Sri Lanka / Anura Kumara Dissanayake\"}, {'url': 'https://www.indiatoday.in/global/story/who-is-anura-kumara-dissanayake-the-new-sri-lankan-president-2604904-2024-09-23', 'content': \"Who Is Anura Kumara Dissanayake, The New Sri Lankan President - India Today The election results – which surprised observers worldwide have declared victory for Janatha Vimukthi Peramuna or the JVP's leader Anura Kumara Dissanayake. Marxist-leaning leader Anura Kumara Dissanayake has been elected as the new president of Sri Lanka. The election results – which surprised observers worldwide have declared victory for Janatha Vimukthi Peramuna or the JVP’s leader Anura Kumara Dissanayake. Dissanayake has been JVP’s leader since 2014, and the party has participated in two parliamentary elections under his leadership – in 2015 where it secured 4.8 percent of the vote share, and in 2020, where the JJB alliance secured 3.8 percent of the vote share.\"}, {'url': 'https://mfa.gov.lk/swearing-in-of-the-9-th-executive-president-of-sri-lanka/', 'content': \"-President's Media Division, Published on: September 23, 2024-Honourable Anura Kumara Dissanayake was sworn in as the 9th Executive President of the Democratic Socialist Republic of Sri Lanka today (23). He was ceremonially sworn in before Chief Justice Jayantha Jayasuriya at the Presidential Secretariat in Colombo.\"}, {'url': 'https://www.bbc.com/news/articles/c206l7pz5v1o', 'content': 'Left-leaning politician Anura Kumara Dissanayake has been elected as Sri Lanka’s next president after he won the debt-ridden country’s first election since its economy collapsed in 2022. \"Though I heavily campaigned for President Ranil Wickremesinghe, the people of Sri Lanka have made their decision, and I fully respect their mandate for Anura Kumara Dissanayake,\" Sabry said. 10 hrs ago  Sri Lanka\\'s new president dissolves parliament ---------------------------------------------- Anura Kumara Dissanayake calls a general election, dissolving the parliament where his party only holds three seats. 3 days ago  Left-leaning leader wins Sri Lanka election in political paradigm shift ----------------------------------------------------------------------- Anura Kumara Dissanayake beat his rivals after a historic second round of vote counting.'}, {'url': 'https://www.thehindu.com/news/international/anura-kumara-dissanayake-the-new-president-of-sri-lanka/article68670472.ece', 'content': 'Mr. Dissanayake came from a small farmer household that was not politically active. “100% sure.” That is what Anura Kumara Dissanayake, Sri Lanka’s President-elect, said days before the September 21 election, when a visiting journalist asked if he could win the presidential race. When Mr. Dissanayake, popularly known by his initials “AKD”, entered leftist politics in his student days, becoming the country’s president one day was probably the furthest from his mind. However, realising that the party’s political fortunes depended on both expanding its base and widening its appeal, Mr. Dissanayake set up the National People’s Power\\xa0(NPP) Alliance, with over two dozen small political groups, professionals, academics and activists.'}]\n"
     ]
    }
   ],
   "source": [
    "print(ai_msg)"
   ],
   "metadata": {
    "collapsed": false,
    "ExecuteTime": {
     "end_time": "2025-01-18T16:14:19.954717700Z",
     "start_time": "2025-01-18T16:14:19.895003400Z"
    }
   },
   "id": "3bb086bb496c092a"
  },
  {
   "cell_type": "code",
   "execution_count": 15,
   "outputs": [
    {
     "name": "stdout",
     "output_type": "stream",
     "text": [
      "[\"Who is Sri Lanka’s newly elected president Anura Kumara Dissanayake? Who is Sri Lanka’s newly elected president Anura Kumara Dissanayake? Who is Sri Lanka’s newly elected president Anura Kumara Dissanayake? Sri Lanka's newly elected President Anura Kumara Dissanayake addresses a gathering after taking his oath of office at the Presidential Secretariat, in Colombo, Sri Lanka, 23 September 2024. Anura Kumara Dissanayake, leader of the National People's Power (NPP) alliance, has been elected as Sri Lanka's new president, marking a historic shift in the nation's political landscape. Athulasiri Samarakoon, a senior lecturer in political science at the Open University of Sri Lanka, told the BBC that restoring economic stability would be the new president's primary challenge. Sri Lanka / Anura Kumara Dissanayake\", \"Who Is Anura Kumara Dissanayake, The New Sri Lankan President - India Today The election results – which surprised observers worldwide have declared victory for Janatha Vimukthi Peramuna or the JVP's leader Anura Kumara Dissanayake. Marxist-leaning leader Anura Kumara Dissanayake has been elected as the new president of Sri Lanka. The election results – which surprised observers worldwide have declared victory for Janatha Vimukthi Peramuna or the JVP’s leader Anura Kumara Dissanayake. Dissanayake has been JVP’s leader since 2014, and the party has participated in two parliamentary elections under his leadership – in 2015 where it secured 4.8 percent of the vote share, and in 2020, where the JJB alliance secured 3.8 percent of the vote share.\", \"-President's Media Division, Published on: September 23, 2024-Honourable Anura Kumara Dissanayake was sworn in as the 9th Executive President of the Democratic Socialist Republic of Sri Lanka today (23). He was ceremonially sworn in before Chief Justice Jayantha Jayasuriya at the Presidential Secretariat in Colombo.\", 'Left-leaning politician Anura Kumara Dissanayake has been elected as Sri Lanka’s next president after he won the debt-ridden country’s first election since its economy collapsed in 2022. \"Though I heavily campaigned for President Ranil Wickremesinghe, the people of Sri Lanka have made their decision, and I fully respect their mandate for Anura Kumara Dissanayake,\" Sabry said. 10 hrs ago  Sri Lanka\\'s new president dissolves parliament ---------------------------------------------- Anura Kumara Dissanayake calls a general election, dissolving the parliament where his party only holds three seats. 3 days ago  Left-leaning leader wins Sri Lanka election in political paradigm shift ----------------------------------------------------------------------- Anura Kumara Dissanayake beat his rivals after a historic second round of vote counting.', 'Mr. Dissanayake came from a small farmer household that was not politically active. “100% sure.” That is what Anura Kumara Dissanayake, Sri Lanka’s President-elect, said days before the September 21 election, when a visiting journalist asked if he could win the presidential race. When Mr. Dissanayake, popularly known by his initials “AKD”, entered leftist politics in his student days, becoming the country’s president one day was probably the furthest from his mind. However, realising that the party’s political fortunes depended on both expanding its base and widening its appeal, Mr. Dissanayake set up the National People’s Power\\xa0(NPP) Alliance, with over two dozen small political groups, professionals, academics and activists.']\n"
     ]
    }
   ],
   "source": [
    "content_list =[]\n",
    "for element in ai_msg:\n",
    "        content_list.append(element['content'])\n",
    "        \n",
    "print(content_list)\n",
    "        "
   ],
   "metadata": {
    "collapsed": false,
    "ExecuteTime": {
     "end_time": "2025-01-18T16:23:20.645012700Z",
     "start_time": "2025-01-18T16:23:20.628252200Z"
    }
   },
   "id": "3799836cf59e7725"
  }
 ],
 "metadata": {
  "kernelspec": {
   "display_name": "Python 3",
   "language": "python",
   "name": "python3"
  },
  "language_info": {
   "codemirror_mode": {
    "name": "ipython",
    "version": 2
   },
   "file_extension": ".py",
   "mimetype": "text/x-python",
   "name": "python",
   "nbconvert_exporter": "python",
   "pygments_lexer": "ipython2",
   "version": "2.7.6"
  }
 },
 "nbformat": 4,
 "nbformat_minor": 5
}
