{
 "cells": [
  {
   "cell_type": "code",
   "execution_count": 83,
   "outputs": [],
   "source": [
    "import os\n",
    "\n",
    "from langchain_ollama import ChatOllama\n",
    "from langchain_core.tools import tool\n",
    "from langchain_openai import ChatOpenAI"
   ],
   "metadata": {
    "collapsed": false,
    "ExecuteTime": {
     "end_time": "2024-12-25T02:02:51.483854900Z",
     "start_time": "2024-12-25T02:02:51.458484900Z"
    }
   },
   "id": "64e309cf57ce2837"
  },
  {
   "cell_type": "code",
   "execution_count": 81,
   "outputs": [],
   "source": [
    "llm = ChatOllama(model=\"llama3.1:latest\")"
   ],
   "metadata": {
    "collapsed": false,
    "ExecuteTime": {
     "end_time": "2024-12-25T02:01:56.771445900Z",
     "start_time": "2024-12-25T02:01:56.687784400Z"
    }
   },
   "id": "1a6cb2739fa429c8"
  },
  {
   "cell_type": "code",
   "execution_count": 5,
   "outputs": [],
   "source": [
    "# Tool define\n",
    "def add(a:int,b:int): # This tool defined as a function\n",
    "    \"\"\"add two numbers\"\"\"\n",
    "    return a+b\n",
    "\n",
    "@tool\n",
    "def minus(a:int,b:int):\n",
    "    \"\"\"subtract from two numbers\"\"\"\n",
    "    return a-b"
   ],
   "metadata": {
    "collapsed": false,
    "ExecuteTime": {
     "end_time": "2024-12-24T11:42:02.729598Z",
     "start_time": "2024-12-24T11:42:02.711290800Z"
    }
   },
   "id": "9385f05a92664bce"
  },
  {
   "cell_type": "code",
   "execution_count": 67,
   "outputs": [],
   "source": [
    "tools = [add,minus]"
   ],
   "metadata": {
    "collapsed": false,
    "ExecuteTime": {
     "end_time": "2024-12-25T01:50:55.409736100Z",
     "start_time": "2024-12-25T01:50:55.382781700Z"
    }
   },
   "id": "5f28e4445a785568"
  },
  {
   "cell_type": "code",
   "execution_count": 68,
   "outputs": [],
   "source": [
    "tool_call_llm = llm.bind_tools(tools=tools) "
   ],
   "metadata": {
    "collapsed": false,
    "ExecuteTime": {
     "end_time": "2024-12-25T01:50:58.467790Z",
     "start_time": "2024-12-25T01:50:58.418061700Z"
    }
   },
   "id": "f7ed3401bef7a1cf"
  },
  {
   "cell_type": "code",
   "execution_count": 69,
   "outputs": [],
   "source": [
    "ai_msg = tool_call_llm.invoke([{\"role\":\"user\",\"content\":\"what is the sum of 5 and 6\"}])"
   ],
   "metadata": {
    "collapsed": false,
    "ExecuteTime": {
     "end_time": "2024-12-25T01:53:15.761147600Z",
     "start_time": "2024-12-25T01:51:07.833704Z"
    }
   },
   "id": "a5016bb93ff5aae1"
  },
  {
   "cell_type": "code",
   "execution_count": 70,
   "outputs": [
    {
     "data": {
      "text/plain": "[{'name': 'add',\n  'args': {'a': 5, 'b': 6},\n  'id': 'f5ccb2c8-c20d-4e51-9205-41879d17a5f6',\n  'type': 'tool_call'}]"
     },
     "execution_count": 70,
     "metadata": {},
     "output_type": "execute_result"
    }
   ],
   "source": [
    "# get proposed tool\n",
    "ai_msg.tool_calls"
   ],
   "metadata": {
    "collapsed": false,
    "ExecuteTime": {
     "end_time": "2024-12-25T01:54:18.147943100Z",
     "start_time": "2024-12-25T01:54:18.056490900Z"
    }
   },
   "id": "e4811f3d4cb4a38a"
  },
  {
   "cell_type": "code",
   "execution_count": 71,
   "outputs": [
    {
     "data": {
      "text/plain": "<function __main__.add(a: int, b: int)>"
     },
     "execution_count": 71,
     "metadata": {},
     "output_type": "execute_result"
    }
   ],
   "source": [
    "# pass available tools\n",
    "available_tools = {\"add\":add,\"minus\":minus}\n",
    "available_tools[ai_msg.tool_calls[0][\"name\"]]"
   ],
   "metadata": {
    "collapsed": false,
    "ExecuteTime": {
     "end_time": "2024-12-25T01:54:21.989117800Z",
     "start_time": "2024-12-25T01:54:21.956436800Z"
    }
   },
   "id": "e13ec38fca1b251f"
  },
  {
   "cell_type": "code",
   "execution_count": 72,
   "outputs": [
    {
     "ename": "AttributeError",
     "evalue": "'function' object has no attribute 'invoke'",
     "output_type": "error",
     "traceback": [
      "\u001B[1;31m---------------------------------------------------------------------------\u001B[0m",
      "\u001B[1;31mAttributeError\u001B[0m                            Traceback (most recent call last)",
      "Cell \u001B[1;32mIn[72], line 2\u001B[0m\n\u001B[0;32m      1\u001B[0m \u001B[38;5;66;03m# invoke is a langchain method, it cannot use if we did not define a tool using @. To use invoke we need to define tool not as a function.\u001B[39;00m\n\u001B[1;32m----> 2\u001B[0m \u001B[43mavailable_tools\u001B[49m\u001B[43m[\u001B[49m\u001B[43mai_msg\u001B[49m\u001B[38;5;241;43m.\u001B[39;49m\u001B[43mtool_calls\u001B[49m\u001B[43m[\u001B[49m\u001B[38;5;241;43m0\u001B[39;49m\u001B[43m]\u001B[49m\u001B[43m[\u001B[49m\u001B[38;5;124;43m\"\u001B[39;49m\u001B[38;5;124;43mname\u001B[39;49m\u001B[38;5;124;43m\"\u001B[39;49m\u001B[43m]\u001B[49m\u001B[43m]\u001B[49m\u001B[38;5;241;43m.\u001B[39;49m\u001B[43minvoke\u001B[49m(ai_msg\u001B[38;5;241m.\u001B[39mtool_calls[\u001B[38;5;241m0\u001B[39m][\u001B[38;5;124m\"\u001B[39m\u001B[38;5;124margs\u001B[39m\u001B[38;5;124m\"\u001B[39m])\n",
      "\u001B[1;31mAttributeError\u001B[0m: 'function' object has no attribute 'invoke'"
     ]
    }
   ],
   "source": [
    "# invoke is a langchain method, it cannot use if we did not define a tool using @. To use invoke we need to define tool not as a function.\n",
    "available_tools[ai_msg.tool_calls[0][\"name\"]].invoke(ai_msg.tool_calls[0][\"args\"])"
   ],
   "metadata": {
    "collapsed": false,
    "ExecuteTime": {
     "end_time": "2024-12-25T01:54:52.072419200Z",
     "start_time": "2024-12-25T01:54:51.506736900Z"
    }
   },
   "id": "b66b13c4f0a6aa91"
  },
  {
   "cell_type": "code",
   "execution_count": 73,
   "outputs": [
    {
     "data": {
      "text/plain": "11"
     },
     "execution_count": 73,
     "metadata": {},
     "output_type": "execute_result"
    }
   ],
   "source": [
    "# if we tool defined as a function, we can get result using **, refer the below flow\n",
    "available_tools[ai_msg.tool_calls[0][\"name\"]](**ai_msg.tool_calls[0][\"args\"])"
   ],
   "metadata": {
    "collapsed": false,
    "ExecuteTime": {
     "end_time": "2024-12-25T01:55:52.951453600Z",
     "start_time": "2024-12-25T01:55:52.916556400Z"
    }
   },
   "id": "5427bbe862447bbc"
  },
  {
   "cell_type": "code",
   "execution_count": 74,
   "outputs": [],
   "source": [
    "ai_msg = tool_call_llm.invoke([{\"role\":\"user\",\"content\":\"what is the subtraction of 5 and 6\"}])"
   ],
   "metadata": {
    "collapsed": false,
    "ExecuteTime": {
     "end_time": "2024-12-25T01:56:48.760176300Z",
     "start_time": "2024-12-25T01:56:24.613170900Z"
    }
   },
   "id": "fffbf265749eaabc"
  },
  {
   "cell_type": "code",
   "execution_count": 75,
   "outputs": [
    {
     "data": {
      "text/plain": "[{'name': 'minus',\n  'args': {'a': 5, 'b': 6},\n  'id': '8f88020d-ee59-4dca-927a-9b447be6b3d3',\n  'type': 'tool_call'}]"
     },
     "execution_count": 75,
     "metadata": {},
     "output_type": "execute_result"
    }
   ],
   "source": [
    "ai_msg.tool_calls"
   ],
   "metadata": {
    "collapsed": false,
    "ExecuteTime": {
     "end_time": "2024-12-25T01:57:42.335510100Z",
     "start_time": "2024-12-25T01:57:42.316731400Z"
    }
   },
   "id": "1a9db77e4df6c04c"
  },
  {
   "cell_type": "code",
   "execution_count": 76,
   "outputs": [
    {
     "data": {
      "text/plain": "-1"
     },
     "execution_count": 76,
     "metadata": {},
     "output_type": "execute_result"
    }
   ],
   "source": [
    "# here we use invoke, because we minus is defined as a tool using @.\n",
    "available_tools[ai_msg.tool_calls[0][\"name\"]].invoke(ai_msg.tool_calls[0][\"args\"])"
   ],
   "metadata": {
    "collapsed": false,
    "ExecuteTime": {
     "end_time": "2024-12-25T01:58:35.291086300Z",
     "start_time": "2024-12-25T01:58:35.234326600Z"
    }
   },
   "id": "3bcd261748f37d26"
  },
  {
   "cell_type": "code",
   "execution_count": 77,
   "outputs": [],
   "source": [
    "ai_msg = tool_call_llm.invoke([{\"role\":\"user\",\"content\":\"what is the addition and subtraction of 5 and 6\"}])"
   ],
   "metadata": {
    "collapsed": false,
    "ExecuteTime": {
     "end_time": "2024-12-25T01:59:26.193632400Z",
     "start_time": "2024-12-25T01:58:42.547628100Z"
    }
   },
   "id": "e61fb5cde769a2a5"
  },
  {
   "cell_type": "code",
   "execution_count": 78,
   "outputs": [
    {
     "data": {
      "text/plain": "[{'name': 'add',\n  'args': {'a': 5, 'b': 6},\n  'id': '3d1107fb-4e63-4a2c-a6bd-13909ca2709c',\n  'type': 'tool_call'},\n {'name': 'minus',\n  'args': {'a': 6, 'b': 5},\n  'id': '81f51116-8438-443e-a090-a208f254eedc',\n  'type': 'tool_call'}]"
     },
     "execution_count": 78,
     "metadata": {},
     "output_type": "execute_result"
    }
   ],
   "source": [
    "# get llm propose tools\n",
    "ai_msg.tool_calls"
   ],
   "metadata": {
    "collapsed": false,
    "ExecuteTime": {
     "end_time": "2024-12-25T01:59:43.249292200Z",
     "start_time": "2024-12-25T01:59:43.211270100Z"
    }
   },
   "id": "e3c759d1482c488d"
  },
  {
   "cell_type": "code",
   "execution_count": 79,
   "outputs": [
    {
     "data": {
      "text/plain": "11"
     },
     "execution_count": 79,
     "metadata": {},
     "output_type": "execute_result"
    }
   ],
   "source": [
    "# The definition of tools is not uniform(ඒකාකාරී). \n",
    "# so we cannot use invoke\n",
    "available_tools[ai_msg.tool_calls[0][\"name\"]](**ai_msg.tool_calls[0][\"args\"])"
   ],
   "metadata": {
    "collapsed": false,
    "ExecuteTime": {
     "end_time": "2024-12-25T02:01:33.109737200Z",
     "start_time": "2024-12-25T02:01:33.078271700Z"
    }
   },
   "id": "d4bc437807e290e0"
  },
  {
   "cell_type": "code",
   "execution_count": 80,
   "outputs": [
    {
     "data": {
      "text/plain": "1"
     },
     "execution_count": 80,
     "metadata": {},
     "output_type": "execute_result"
    }
   ],
   "source": [
    "available_tools[ai_msg.tool_calls[1][\"name\"]].invoke(ai_msg.tool_calls[1][\"args\"])"
   ],
   "metadata": {
    "collapsed": false,
    "ExecuteTime": {
     "end_time": "2024-12-25T02:01:34.328431100Z",
     "start_time": "2024-12-25T02:01:34.291377900Z"
    }
   },
   "id": "ddfe820d6a753288"
  }
 ],
 "metadata": {
  "kernelspec": {
   "display_name": "Python 3",
   "language": "python",
   "name": "python3"
  },
  "language_info": {
   "codemirror_mode": {
    "name": "ipython",
    "version": 2
   },
   "file_extension": ".py",
   "mimetype": "text/x-python",
   "name": "python",
   "nbconvert_exporter": "python",
   "pygments_lexer": "ipython2",
   "version": "2.7.6"
  }
 },
 "nbformat": 4,
 "nbformat_minor": 5
}
