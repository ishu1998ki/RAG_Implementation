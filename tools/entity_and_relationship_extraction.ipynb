{
 "cells": [
  {
   "cell_type": "code",
   "execution_count": 1,
   "id": "initial_id",
   "metadata": {
    "collapsed": true,
    "ExecuteTime": {
     "end_time": "2025-01-06T13:11:36.419360400Z",
     "start_time": "2025-01-06T13:11:31.886658Z"
    }
   },
   "outputs": [
    {
     "data": {
      "text/plain": "True"
     },
     "execution_count": 1,
     "metadata": {},
     "output_type": "execute_result"
    }
   ],
   "source": [
    "import os\n",
    "\n",
    "from pydantic import BaseModel,Field\n",
    "from langchain_openai import ChatOpenAI\n",
    "from dotenv import load_dotenv\n",
    "\n",
    "load_dotenv()"
   ]
  },
  {
   "cell_type": "code",
   "execution_count": 3,
   "outputs": [],
   "source": [
    "# OpenAI api define\n",
    "os.environ[\"OPENAI_API_KEY\"] = os.getenv(\"OPENAI_API_KEY\")\n",
    "\n",
    "model = ChatOpenAI(model=\"gpt-4o\",base_url=os.getenv(\"base_url\"))"
   ],
   "metadata": {
    "collapsed": false,
    "ExecuteTime": {
     "end_time": "2025-01-06T14:17:31.513789500Z",
     "start_time": "2025-01-06T14:17:31.448454700Z"
    }
   },
   "id": "82801f52e7c1698f"
  },
  {
   "cell_type": "code",
   "execution_count": 3,
   "outputs": [],
   "source": [
    "# Pydatntic class definition\n",
    "class EntityExtraction(BaseModel):\n",
    "    entities:str=Field(description=\"all the entities in a provided content\")"
   ],
   "metadata": {
    "collapsed": false,
    "ExecuteTime": {
     "end_time": "2024-12-25T08:37:02.812696500Z",
     "start_time": "2024-12-25T08:37:02.764633800Z"
    }
   },
   "id": "c036b8f49ee112e9"
  },
  {
   "cell_type": "code",
   "execution_count": 9,
   "outputs": [],
   "source": [
    "entity_structured_output_model = model.with_structured_output(schema=EntityExtraction)"
   ],
   "metadata": {
    "collapsed": false,
    "ExecuteTime": {
     "end_time": "2024-12-26T02:22:49.235966Z",
     "start_time": "2024-12-26T02:22:49.182661400Z"
    }
   },
   "id": "7a680d3658033510"
  },
  {
   "cell_type": "code",
   "execution_count": 11,
   "outputs": [],
   "source": [
    "entities_output=entity_structured_output_model.invoke([{\"role\":\"system\",\"content\":\"extract named entities from the given content\"},{\"role\":\"user\",\"content\":\"In New York City, the iconic statue of Liberty stands tall as a symbol of freedom, attracting millions of tourists annually. The historic monument, gifted by France in 1886, is located on Liberty Island and overlooks the bustling Hudson River. Managed by the National Park Service, the site offers guided tours and educational programs, providing visitors with insights into American history and culture.\"}])"
   ],
   "metadata": {
    "collapsed": false,
    "ExecuteTime": {
     "end_time": "2024-12-26T02:23:27.454624700Z",
     "start_time": "2024-12-26T02:23:24.595167500Z"
    }
   },
   "id": "66681bd6dd22726d"
  },
  {
   "cell_type": "code",
   "execution_count": 12,
   "outputs": [
    {
     "data": {
      "text/plain": "'New York City, Statue of Liberty, France, 1886, Liberty Island, Hudson River, National Park Service, American history and culture'"
     },
     "execution_count": 12,
     "metadata": {},
     "output_type": "execute_result"
    }
   ],
   "source": [
    "entities_output.entities"
   ],
   "metadata": {
    "collapsed": false,
    "ExecuteTime": {
     "end_time": "2024-12-26T02:23:35.433988100Z",
     "start_time": "2024-12-26T02:23:35.370772200Z"
    }
   },
   "id": "cc89157b7a479d79"
  },
  {
   "cell_type": "code",
   "execution_count": 7,
   "outputs": [],
   "source": [
    "class NER_structure(BaseModel):\n",
    "    Subject:str=Field(description=\"The entity being described.\")\n",
    "    Predicate:str=Field(description=\"The property or relationship associated with the subject.\") \n",
    "    Object:str=Field(description=\" The value or entity to which the predicate applies.\")"
   ],
   "metadata": {
    "collapsed": false,
    "ExecuteTime": {
     "end_time": "2024-12-25T08:47:30.488985100Z",
     "start_time": "2024-12-25T08:47:30.450571800Z"
    }
   },
   "id": "a49cd47ce27de9ad"
  },
  {
   "cell_type": "code",
   "execution_count": 8,
   "outputs": [],
   "source": [
    "class EntityAndRelationship_Extraction(BaseModel):\n",
    "    relationship:list[NER_structure] = Field(description =\"these are the relationship between extracted named entities\")"
   ],
   "metadata": {
    "collapsed": false,
    "ExecuteTime": {
     "end_time": "2024-12-26T02:21:35.987429400Z",
     "start_time": "2024-12-26T02:21:35.975121100Z"
    }
   },
   "id": "85cabe87ab4be193"
  },
  {
   "cell_type": "code",
   "execution_count": 13,
   "outputs": [],
   "source": [
    "relationship_structured_output_model = model.with_structured_output(schema=EntityAndRelationship_Extraction)"
   ],
   "metadata": {
    "collapsed": false,
    "ExecuteTime": {
     "end_time": "2024-12-26T02:24:02.160346300Z",
     "start_time": "2024-12-26T02:24:02.113055100Z"
    }
   },
   "id": "cde20e3e72b9d6d7"
  },
  {
   "cell_type": "code",
   "execution_count": 14,
   "outputs": [],
   "source": [
    "relationship_output=relationship_structured_output_model.invoke([{\"role\":\"system\",\"content\":\"extract the relationship between identified named entities from the given content\"},{\"role\":\"user\",\"content\":f\"In New York City, the iconic statue of Liberty stands tall as a symbol of freedom, attracting millions of tourists annually. The historic monument, gifted by France in 1886, is located on Liberty Island and overlooks the bustling Hudson River. Managed by the National Park Service, the site offers guided tours and educational programs, providing visitors with insights into American history and culture. {entities_output.entities}\"}])"
   ],
   "metadata": {
    "collapsed": false,
    "ExecuteTime": {
     "end_time": "2024-12-26T02:30:12.512182Z",
     "start_time": "2024-12-26T02:30:08.598315100Z"
    }
   },
   "id": "64d41840b192fd9"
  },
  {
   "cell_type": "code",
   "execution_count": 15,
   "outputs": [
    {
     "data": {
      "text/plain": "EntityAndRelationship_Extraction(relationship=[NER_structure(Subject='Statue of Liberty', Predicate='located in', Object='New York City'), NER_structure(Subject='Statue of Liberty', Predicate='symbolizes', Object='freedom'), NER_structure(Subject='Statue of Liberty', Predicate='gifted by', Object='France'), NER_structure(Subject='Statue of Liberty', Predicate='gifted in', Object='1886'), NER_structure(Subject='Statue of Liberty', Predicate='situated on', Object='Liberty Island'), NER_structure(Subject='Statue of Liberty', Predicate='overlooks', Object='Hudson River'), NER_structure(Subject='Statue of Liberty', Predicate='managed by', Object='National Park Service'), NER_structure(Subject='National Park Service', Predicate='offers', Object='guided tours and educational programs'), NER_structure(Subject='guided tours and educational programs', Predicate='provide insights into', Object='American history and culture')])"
     },
     "execution_count": 15,
     "metadata": {},
     "output_type": "execute_result"
    }
   ],
   "source": [
    "relationship_output"
   ],
   "metadata": {
    "collapsed": false,
    "ExecuteTime": {
     "end_time": "2024-12-26T02:30:21.725574700Z",
     "start_time": "2024-12-26T02:30:21.694142300Z"
    }
   },
   "id": "2d5246a6133b018f"
  },
  {
   "cell_type": "code",
   "execution_count": null,
   "outputs": [],
   "source": [],
   "metadata": {
    "collapsed": false
   },
   "id": "29298b13554145b4"
  }
 ],
 "metadata": {
  "kernelspec": {
   "display_name": "Python 3",
   "language": "python",
   "name": "python3"
  },
  "language_info": {
   "codemirror_mode": {
    "name": "ipython",
    "version": 2
   },
   "file_extension": ".py",
   "mimetype": "text/x-python",
   "name": "python",
   "nbconvert_exporter": "python",
   "pygments_lexer": "ipython2",
   "version": "2.7.6"
  }
 },
 "nbformat": 4,
 "nbformat_minor": 5
}
