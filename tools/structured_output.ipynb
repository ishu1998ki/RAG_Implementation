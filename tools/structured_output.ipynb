{
 "cells": [
  {
   "cell_type": "code",
   "execution_count": 1,
   "id": "initial_id",
   "metadata": {
    "collapsed": true,
    "ExecuteTime": {
     "end_time": "2025-01-06T14:16:02.865548500Z",
     "start_time": "2025-01-06T14:16:00.933057400Z"
    }
   },
   "outputs": [
    {
     "data": {
      "text/plain": "True"
     },
     "execution_count": 1,
     "metadata": {},
     "output_type": "execute_result"
    }
   ],
   "source": [
    "import os\n",
    "\n",
    "from pydantic import BaseModel,Field\n",
    "from langchain_openai import ChatOpenAI\n",
    "from dotenv import load_dotenv\n",
    "\n",
    "load_dotenv()"
   ]
  },
  {
   "cell_type": "code",
   "execution_count": 2,
   "outputs": [],
   "source": [
    "# OpenAI api define\n",
    "os.environ[\"OPENAI_API_KEY\"] = os.getenv(\"OPENAI_API_KEY\")\n",
    "llm_openai = ChatOpenAI(model=\"gpt-4o\",base_url=os.getenv(\"base_url\"))"
   ],
   "metadata": {
    "collapsed": false,
    "ExecuteTime": {
     "end_time": "2025-01-06T14:16:04.782080800Z",
     "start_time": "2025-01-06T14:16:04.720030Z"
    }
   },
   "id": "bb96999bdba0ab52"
  },
  {
   "cell_type": "code",
   "execution_count": null,
   "outputs": [],
   "source": [],
   "metadata": {
    "collapsed": false
   },
   "id": "d0d6e8b1987a97fb"
  },
  {
   "cell_type": "code",
   "execution_count": 3,
   "outputs": [],
   "source": [
    "# Pydantic class definition\n",
    "class Recipe(BaseModel):\n",
    "    ingredients:str=Field(description=\"all the ingredients for a particular recipe\")\n",
    "    method:list[str]=Field(description=\"step by step methodology to make the food\")\n",
    "    tips:list[str]=Field(description=\"special tips to successfully make the food\")"
   ],
   "metadata": {
    "collapsed": false,
    "ExecuteTime": {
     "end_time": "2025-01-06T14:16:06.307319800Z",
     "start_time": "2025-01-06T14:16:06.284637700Z"
    }
   },
   "id": "f8837e51f9688e80"
  },
  {
   "cell_type": "code",
   "execution_count": 4,
   "outputs": [],
   "source": [
    "structured_output_llm=llm_openai.with_structured_output(schema=Recipe)"
   ],
   "metadata": {
    "collapsed": false,
    "ExecuteTime": {
     "end_time": "2025-01-06T14:16:07.620226600Z",
     "start_time": "2025-01-06T14:16:07.352375500Z"
    }
   },
   "id": "18f10245448e8c07"
  },
  {
   "cell_type": "code",
   "execution_count": 5,
   "outputs": [],
   "source": [
    "output=structured_output_llm.invoke([{\"role\":\"user\",\"content\":\"How to bake chocolate cake?\"}])"
   ],
   "metadata": {
    "collapsed": false,
    "ExecuteTime": {
     "end_time": "2025-01-06T14:16:19.744132100Z",
     "start_time": "2025-01-06T14:16:08.988083800Z"
    }
   },
   "id": "f95b7457d8b2564c"
  },
  {
   "cell_type": "code",
   "execution_count": 6,
   "outputs": [
    {
     "data": {
      "text/plain": "Recipe(ingredients='- 1 3/4 cups (220g) all-purpose flour\\n- 1 1/2 cups (300g) granulated sugar\\n- 3/4 cup (75g) unsweetened cocoa powder\\n- 1 1/2 tsp baking powder\\n- 1 1/2 tsp baking soda\\n- 1 tsp salt\\n- 2 large eggs\\n- 1 cup (240ml) whole milk\\n- 1/2 cup (120ml) vegetable oil\\n- 2 tsp vanilla extract\\n- 1 cup (240ml) boiling water', method=['Preheat your oven to 350°F (175°C). Grease and flour two 9-inch round baking pans.', 'In a large mixing bowl, sift together the flour, sugar, cocoa powder, baking powder, baking soda, and salt.', 'Add the eggs, milk, vegetable oil, and vanilla extract to the dry ingredients. Mix until well combined.', 'Gradually stir in the boiling water. The batter will be thin, but this is normal.', 'Pour the batter evenly into the prepared pans.', 'Bake for 30-35 minutes, or until a toothpick inserted into the center comes out clean.', 'Allow the cakes to cool in the pans for about 10 minutes, then remove them from the pans and let them cool completely on a wire rack.', 'Frost and decorate the cake as desired once it is cooled.'], tips=['Ensure all ingredients are at room temperature before mixing.', 'Do not overmix the batter as it can make the cake dense.', 'Use high-quality cocoa powder for a richer chocolate flavor.', 'Line the bottoms of the pans with parchment paper to prevent sticking.', 'Check the cake for doneness a few minutes before the recommended baking time to avoid overbaking.'])"
     },
     "execution_count": 6,
     "metadata": {},
     "output_type": "execute_result"
    }
   ],
   "source": [
    "output"
   ],
   "metadata": {
    "collapsed": false,
    "ExecuteTime": {
     "end_time": "2025-01-06T14:16:21.066819Z",
     "start_time": "2025-01-06T14:16:21.017860Z"
    }
   },
   "id": "66a54797664b8846"
  },
  {
   "cell_type": "code",
   "execution_count": 7,
   "outputs": [
    {
     "data": {
      "text/plain": "'- 1 3/4 cups (220g) all-purpose flour\\n- 1 1/2 cups (300g) granulated sugar\\n- 3/4 cup (75g) unsweetened cocoa powder\\n- 1 1/2 tsp baking powder\\n- 1 1/2 tsp baking soda\\n- 1 tsp salt\\n- 2 large eggs\\n- 1 cup (240ml) whole milk\\n- 1/2 cup (120ml) vegetable oil\\n- 2 tsp vanilla extract\\n- 1 cup (240ml) boiling water'"
     },
     "execution_count": 7,
     "metadata": {},
     "output_type": "execute_result"
    }
   ],
   "source": [
    "output.ingredients"
   ],
   "metadata": {
    "collapsed": false,
    "ExecuteTime": {
     "end_time": "2025-01-06T14:16:22.418349100Z",
     "start_time": "2025-01-06T14:16:22.399407400Z"
    }
   },
   "id": "6b3538e08880dc98"
  },
  {
   "cell_type": "code",
   "execution_count": 8,
   "outputs": [
    {
     "data": {
      "text/plain": "['Preheat your oven to 350°F (175°C). Grease and flour two 9-inch round baking pans.',\n 'In a large mixing bowl, sift together the flour, sugar, cocoa powder, baking powder, baking soda, and salt.',\n 'Add the eggs, milk, vegetable oil, and vanilla extract to the dry ingredients. Mix until well combined.',\n 'Gradually stir in the boiling water. The batter will be thin, but this is normal.',\n 'Pour the batter evenly into the prepared pans.',\n 'Bake for 30-35 minutes, or until a toothpick inserted into the center comes out clean.',\n 'Allow the cakes to cool in the pans for about 10 minutes, then remove them from the pans and let them cool completely on a wire rack.',\n 'Frost and decorate the cake as desired once it is cooled.']"
     },
     "execution_count": 8,
     "metadata": {},
     "output_type": "execute_result"
    }
   ],
   "source": [
    "output.method"
   ],
   "metadata": {
    "collapsed": false,
    "ExecuteTime": {
     "end_time": "2025-01-06T14:16:23.650361400Z",
     "start_time": "2025-01-06T14:16:23.631858900Z"
    }
   },
   "id": "e32edbfc9ce9b64a"
  },
  {
   "cell_type": "code",
   "execution_count": 9,
   "outputs": [
    {
     "data": {
      "text/plain": "['Ensure all ingredients are at room temperature before mixing.',\n 'Do not overmix the batter as it can make the cake dense.',\n 'Use high-quality cocoa powder for a richer chocolate flavor.',\n 'Line the bottoms of the pans with parchment paper to prevent sticking.',\n 'Check the cake for doneness a few minutes before the recommended baking time to avoid overbaking.']"
     },
     "execution_count": 9,
     "metadata": {},
     "output_type": "execute_result"
    }
   ],
   "source": [
    "output.tips"
   ],
   "metadata": {
    "collapsed": false,
    "ExecuteTime": {
     "end_time": "2025-01-06T14:16:24.865585200Z",
     "start_time": "2025-01-06T14:16:24.816214300Z"
    }
   },
   "id": "e163dc01caa844ab"
  },
  {
   "cell_type": "code",
   "execution_count": null,
   "outputs": [],
   "source": [],
   "metadata": {
    "collapsed": false
   },
   "id": "2eb975f6e9581865"
  }
 ],
 "metadata": {
  "kernelspec": {
   "display_name": "Python 3",
   "language": "python",
   "name": "python3"
  },
  "language_info": {
   "codemirror_mode": {
    "name": "ipython",
    "version": 2
   },
   "file_extension": ".py",
   "mimetype": "text/x-python",
   "name": "python",
   "nbconvert_exporter": "python",
   "pygments_lexer": "ipython2",
   "version": "2.7.6"
  }
 },
 "nbformat": 4,
 "nbformat_minor": 5
}
