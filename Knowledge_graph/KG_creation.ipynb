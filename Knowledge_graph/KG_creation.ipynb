{
 "cells": [
  {
   "cell_type": "code",
   "execution_count": 1,
   "id": "initial_id",
   "metadata": {
    "collapsed": true,
    "ExecuteTime": {
     "end_time": "2025-01-06T13:57:13.535160900Z",
     "start_time": "2025-01-06T13:56:51.889005600Z"
    }
   },
   "outputs": [
    {
     "data": {
      "text/plain": "True"
     },
     "execution_count": 1,
     "metadata": {},
     "output_type": "execute_result"
    }
   ],
   "source": [
    "import json\n",
    "import os\n",
    "\n",
    "from langchain.text_splitter import RecursiveCharacterTextSplitter\n",
    "from langchain_community.document_loaders import TextLoader\n",
    "from pydantic import BaseModel,Field\n",
    "from langchain_openai import ChatOpenAI\n",
    "from langchain_groq import ChatGroq\n",
    "from langchain_ollama import ChatOllama\n",
    "from lightrag import LightRAG, QueryParam\n",
    "from lightrag.llm import ollama_model_complete\n",
    "from dotenv import load_dotenv\n",
    "\n",
    "load_dotenv()"
   ]
  },
  {
   "cell_type": "code",
   "execution_count": 2,
   "outputs": [],
   "source": [
    "# OpenAI api define\n",
    "os.environ[\"OPENAI_API_KEY\"] = os.getenv(\"OPENAI_API_KEY\")\n",
    "\n",
    "model = ChatOpenAI(model=\"gpt-4o\",base_url=os.getenv(\"base_url\"))\n",
    "\n",
    "# Groq api define\n",
    "os.environ[\"GROQ_API_KEY\"] = os.getenv(\"GROQ_API_KEY\")\n",
    "llm = ChatGroq(model=\"llama-3.3-70b-versatile\")\n",
    "\n",
    "# Ollama api define\n",
    "ollama_llm = ChatOllama(model=\"llama3.1:latest\")\n"
   ],
   "metadata": {
    "collapsed": false,
    "ExecuteTime": {
     "end_time": "2025-01-06T13:57:19.309010800Z",
     "start_time": "2025-01-06T13:57:19.101448200Z"
    }
   },
   "id": "baceebcfab7004fb"
  },
  {
   "cell_type": "code",
   "execution_count": 3,
   "outputs": [],
   "source": [
    "# Define the directory containing the text file\n",
    "file_path = os.path.join(\"./books\", \"romeo_and_juliet_copy.txt\")"
   ],
   "metadata": {
    "collapsed": false,
    "ExecuteTime": {
     "end_time": "2025-01-03T15:19:08.146593800Z",
     "start_time": "2025-01-03T15:19:08.123035200Z"
    }
   },
   "id": "44e1a7606b8fa62d"
  },
  {
   "cell_type": "code",
   "execution_count": 4,
   "outputs": [
    {
     "name": "stdout",
     "output_type": "stream",
     "text": [
      "./books\\romeo_and_juliet_copy.txt\n"
     ]
    }
   ],
   "source": [
    "print(file_path)"
   ],
   "metadata": {
    "collapsed": false,
    "ExecuteTime": {
     "end_time": "2025-01-03T15:19:09.314872300Z",
     "start_time": "2025-01-03T15:19:09.298786200Z"
    }
   },
   "id": "7a79827841c937cd"
  },
  {
   "cell_type": "code",
   "execution_count": 5,
   "outputs": [],
   "source": [
    "# Read the text content from the file\n",
    "loader = TextLoader(file_path,encoding='UTF-8')\n",
    "documents = loader.load()"
   ],
   "metadata": {
    "collapsed": false,
    "ExecuteTime": {
     "end_time": "2025-01-03T15:19:10.005853100Z",
     "start_time": "2025-01-03T15:19:09.974444Z"
    }
   },
   "id": "73f3676734e2d2b7"
  },
  {
   "cell_type": "code",
   "execution_count": 6,
   "outputs": [],
   "source": [
    "rec_char_splitter = RecursiveCharacterTextSplitter(\n",
    "    chunk_size=1000, chunk_overlap=100)\n",
    "rec_char_docs = rec_char_splitter.split_documents(documents)"
   ],
   "metadata": {
    "collapsed": false,
    "ExecuteTime": {
     "end_time": "2025-01-03T15:19:10.520954400Z",
     "start_time": "2025-01-03T15:19:10.505025200Z"
    }
   },
   "id": "c19b135dd0225833"
  },
  {
   "cell_type": "code",
   "execution_count": 7,
   "outputs": [],
   "source": [
    "rec_char_docs = rec_char_docs[:10]"
   ],
   "metadata": {
    "collapsed": false,
    "ExecuteTime": {
     "end_time": "2025-01-03T15:19:11.393444200Z",
     "start_time": "2025-01-03T15:19:11.378304400Z"
    }
   },
   "id": "a290d0eb10864752"
  },
  {
   "cell_type": "code",
   "execution_count": 8,
   "outputs": [
    {
     "name": "stdout",
     "output_type": "stream",
     "text": [
      "page_content='﻿The Project Gutenberg eBook of Romeo and Juliet\n",
      "    \n",
      "This ebook is for the use of anyone anywhere in the United States and\n",
      "most other parts of the world at no cost and with almost no restrictions\n",
      "whatsoever. You may copy it, give it away or re-use it under the terms\n",
      "of the Project Gutenberg License included with this ebook or online\n",
      "at www.gutenberg.org. If you are not located in the United States,\n",
      "you will have to check the laws of the country where you are located\n",
      "before using this eBook.\n",
      "\n",
      "Title: Romeo and Juliet\n",
      "\n",
      "Author: William Shakespeare\n",
      "\n",
      "Release date: November 1, 1998 [eBook #1513]\n",
      "                Most recently updated: June 27, 2023\n",
      "\n",
      "Language: English\n",
      "\n",
      "Credits: the PG Shakespeare Team, a team of about twenty Project Gutenberg volunteers\n",
      "\n",
      "\n",
      "*** START OF THE PROJECT GUTENBERG EBOOK ROMEO AND JULIET ***\n",
      "\n",
      "\n",
      "\n",
      "\n",
      "THE TRAGEDY OF ROMEO AND JULIET\n",
      "\n",
      "by William Shakespeare\n",
      "\n",
      "\n",
      "\n",
      "\n",
      "Contents\n",
      "\n",
      "THE PROLOGUE.' metadata={'source': './books\\\\romeo_and_juliet_copy.txt'}\n"
     ]
    }
   ],
   "source": [
    "for index, char in enumerate(rec_char_docs):\n",
    "    if index == 0:  # Check if it's the first item\n",
    "        print(char)  # Print the first item\n",
    "        break"
   ],
   "metadata": {
    "collapsed": false,
    "ExecuteTime": {
     "end_time": "2025-01-03T15:19:11.935610600Z",
     "start_time": "2025-01-03T15:19:11.904198200Z"
    }
   },
   "id": "f53bda0a2d501928"
  },
  {
   "cell_type": "code",
   "execution_count": 9,
   "outputs": [],
   "source": [
    "# Pydatntic class definition\n",
    "# class for named_entity definition\n",
    "class EntityExtraction(BaseModel):\n",
    "    entities:str=Field(description=\"all the entities in a provided content\")\n",
    " \n",
    "# class for named_entity relationship structure     \n",
    "class NER_structure(BaseModel):\n",
    "    Subject:str=Field(description=\"The entity being described.\")\n",
    "    Predicate:str=Field(description=\"The property or relationship associated with the subject.\") \n",
    "    Object:str=Field(description=\" The value or entity to which the predicate applies.\")\n",
    "    \n",
    "# class for get named_entity relationships     \n",
    "class EntityAndRelationship_Extraction(BaseModel):\n",
    "    relationship:list[NER_structure] = Field(description =\"these are the relationship between extracted named entities\")"
   ],
   "metadata": {
    "collapsed": false,
    "ExecuteTime": {
     "end_time": "2025-01-03T15:19:12.661263100Z",
     "start_time": "2025-01-03T15:19:12.629981200Z"
    }
   },
   "id": "aed918034aa1b777"
  },
  {
   "cell_type": "code",
   "execution_count": 10,
   "outputs": [],
   "source": [
    "# extract entities\n",
    "entity_structured_output_model = llm.with_structured_output(schema=EntityExtraction)"
   ],
   "metadata": {
    "collapsed": false,
    "ExecuteTime": {
     "end_time": "2025-01-03T15:19:13.432268400Z",
     "start_time": "2025-01-03T15:19:13.396187500Z"
    }
   },
   "id": "c3680b0be156656c"
  },
  {
   "cell_type": "code",
   "execution_count": 11,
   "outputs": [],
   "source": [
    "# extract named_entities along with the relationships\n",
    "relationship_structured_output_model = llm.with_structured_output(schema=EntityAndRelationship_Extraction)"
   ],
   "metadata": {
    "collapsed": false,
    "ExecuteTime": {
     "end_time": "2025-01-03T15:19:14.090222900Z",
     "start_time": "2025-01-03T15:19:14.074326600Z"
    }
   },
   "id": "50326fe538862bfb"
  },
  {
   "cell_type": "code",
   "execution_count": 12,
   "outputs": [],
   "source": [
    "entities_output = []\n",
    "relationship_output = []"
   ],
   "metadata": {
    "collapsed": false,
    "ExecuteTime": {
     "end_time": "2025-01-03T15:19:14.885197900Z",
     "start_time": "2025-01-03T15:19:14.869128600Z"
    }
   },
   "id": "c8c81013d326cfcd"
  },
  {
   "cell_type": "code",
   "execution_count": 13,
   "outputs": [
    {
     "name": "stderr",
     "output_type": "stream",
     "text": [
      "INFO:httpx:HTTP Request: POST https://api.groq.com/openai/v1/chat/completions \"HTTP/1.1 200 OK\"\n",
      "INFO:httpx:HTTP Request: POST https://api.groq.com/openai/v1/chat/completions \"HTTP/1.1 200 OK\"\n",
      "INFO:httpx:HTTP Request: POST https://api.groq.com/openai/v1/chat/completions \"HTTP/1.1 200 OK\"\n",
      "INFO:httpx:HTTP Request: POST https://api.groq.com/openai/v1/chat/completions \"HTTP/1.1 200 OK\"\n",
      "INFO:httpx:HTTP Request: POST https://api.groq.com/openai/v1/chat/completions \"HTTP/1.1 200 OK\"\n",
      "INFO:httpx:HTTP Request: POST https://api.groq.com/openai/v1/chat/completions \"HTTP/1.1 200 OK\"\n",
      "INFO:httpx:HTTP Request: POST https://api.groq.com/openai/v1/chat/completions \"HTTP/1.1 200 OK\"\n",
      "INFO:httpx:HTTP Request: POST https://api.groq.com/openai/v1/chat/completions \"HTTP/1.1 200 OK\"\n",
      "INFO:httpx:HTTP Request: POST https://api.groq.com/openai/v1/chat/completions \"HTTP/1.1 429 Too Many Requests\"\n",
      "INFO:groq._base_client:Retrying request to /openai/v1/chat/completions in 3.000000 seconds\n",
      "INFO:httpx:HTTP Request: POST https://api.groq.com/openai/v1/chat/completions \"HTTP/1.1 200 OK\"\n",
      "INFO:httpx:HTTP Request: POST https://api.groq.com/openai/v1/chat/completions \"HTTP/1.1 429 Too Many Requests\"\n",
      "INFO:groq._base_client:Retrying request to /openai/v1/chat/completions in 5.000000 seconds\n",
      "INFO:httpx:HTTP Request: POST https://api.groq.com/openai/v1/chat/completions \"HTTP/1.1 200 OK\"\n"
     ]
    }
   ],
   "source": [
    "for chunk in rec_char_docs:\n",
    "    entities_output.append(entity_structured_output_model.invoke(\n",
    "        [\n",
    "            {\"role\":\"system\",\n",
    "             \"content\":\"\"\"\n",
    "             Named entities are special names of people, places, or things that stand out in a sentence. You need to extract named entities from the given content. Get idea from below provided examples.\n",
    "              \n",
    "              Example 1: \n",
    "              'In Silicon Valley, tech giants like Apple and Google create new technologies. Apple Park, their headquarters in Cupertino, is super cool.'\n",
    "              \n",
    "              Named entities: Silicon Valley (a place), Apple (a company), Google (a company), Apple Park (a place), Cupertino (a place)\n",
    "                \n",
    "              Example 2: \n",
    "              'In New York City, the Statue of Liberty is a symbol of freedom. It was a gift from France and sits on Liberty Island, near the Hudson River'\n",
    "              \n",
    "              Named entities: New York City (a place), Statue of Liberty (a famous statue), France (a country), Liberty Island (a place), Hudson River (a river)\n",
    "              \n",
    "              Example 3:\n",
    "              'In Paris, the Eiffel Tower remains an iconic symbol of French culture and engineering brilliance. Lots of people visit the Louvre Museum to see amazing art like the Mona Lisa'\n",
    "              \n",
    "              Named entities: Paris (a place), Eiffel Tower (a famous building), Louvre Museum (a place), Mona Lisa (a famous painting)\n",
    "   \n",
    "                \"\"\"},   \n",
    "            {\"role\":\"user\",\n",
    "             \"content\":chunk.page_content}\n",
    "        ]))\n",
    "    "
   ],
   "metadata": {
    "collapsed": false,
    "ExecuteTime": {
     "end_time": "2025-01-03T15:19:34.204303600Z",
     "start_time": "2025-01-03T15:19:15.420324500Z"
    }
   },
   "id": "12aabecd58554d49"
  },
  {
   "cell_type": "code",
   "execution_count": 14,
   "outputs": [
    {
     "data": {
      "text/plain": "[EntityExtraction(entities='Romeo and Juliet, United States, Project Gutenberg, Project Gutenberg License, www.gutenberg.org, William Shakespeare, English, PG Shakespeare Team, Project Gutenberg, THE TRAGEDY OF ROMEO AND JULIET'),\n EntityExtraction(entities='Romeo and Juliet, William Shakespeare, Capulet, Friar Lawrence, Mantua, Juliet'),\n EntityExtraction(entities='ESCALUS, MERCUTIO, PARIS, MONTAGUE, LADY MONTAGUE, ROMEO, BENVOLIO, ABRAM, BALTHASAR, CAPULET, LADY CAPULET, JULIET, TYBALT, CAPULET’S COUSIN, NURSE, PETER, SAMPSON, GREGORY, FRIAR LAWRENCE, FRIAR JOHN, Apothecary, CHORUS, Verona, Franciscan, Capulets, Montagues, Veronese, Juliet’s Nurse'),\n EntityExtraction(entities='Verona, Chorus, Sampson, Gregory, Mantua'),\n EntityExtraction(entities='Sampson, Gregory, Montague'),\n EntityExtraction(entities='Gregory, Sampson, Montagues, Abram, Balthasar'),\n EntityExtraction(entities='Gregory, Sampson, Abram, Benvolio, Tybalt'),\n EntityExtraction(entities='Tybalt, Benvolio, Citizens, Capulet, Lady Capulet, Montague, Lady Montague, Prince Escalus, Attendants, Montagues, Capulets'),\n EntityExtraction(entities='PRINCE, Capulet, Montague, Verona, Free-town'),\n EntityExtraction(entities='MONTAGUE, BENVOLIO, Tybalt, Prince, Capulet, Lady Capulet, Romeo, Lady Montague')]"
     },
     "execution_count": 14,
     "metadata": {},
     "output_type": "execute_result"
    }
   ],
   "source": [
    "entities_output"
   ],
   "metadata": {
    "collapsed": false,
    "ExecuteTime": {
     "end_time": "2025-01-03T15:19:35.812292400Z",
     "start_time": "2025-01-03T15:19:35.780177Z"
    }
   },
   "id": "dcade5d51d07788d"
  },
  {
   "cell_type": "code",
   "execution_count": 15,
   "outputs": [
    {
     "name": "stderr",
     "output_type": "stream",
     "text": [
      "INFO:httpx:HTTP Request: POST https://api.groq.com/openai/v1/chat/completions \"HTTP/1.1 429 Too Many Requests\"\n",
      "INFO:groq._base_client:Retrying request to /openai/v1/chat/completions in 3.000000 seconds\n",
      "INFO:httpx:HTTP Request: POST https://api.groq.com/openai/v1/chat/completions \"HTTP/1.1 200 OK\"\n",
      "INFO:httpx:HTTP Request: POST https://api.groq.com/openai/v1/chat/completions \"HTTP/1.1 429 Too Many Requests\"\n",
      "INFO:groq._base_client:Retrying request to /openai/v1/chat/completions in 8.000000 seconds\n",
      "INFO:httpx:HTTP Request: POST https://api.groq.com/openai/v1/chat/completions \"HTTP/1.1 200 OK\"\n",
      "INFO:httpx:HTTP Request: POST https://api.groq.com/openai/v1/chat/completions \"HTTP/1.1 429 Too Many Requests\"\n",
      "INFO:groq._base_client:Retrying request to /openai/v1/chat/completions in 9.000000 seconds\n",
      "INFO:httpx:HTTP Request: POST https://api.groq.com/openai/v1/chat/completions \"HTTP/1.1 200 OK\"\n",
      "INFO:httpx:HTTP Request: POST https://api.groq.com/openai/v1/chat/completions \"HTTP/1.1 429 Too Many Requests\"\n",
      "INFO:groq._base_client:Retrying request to /openai/v1/chat/completions in 9.000000 seconds\n",
      "INFO:httpx:HTTP Request: POST https://api.groq.com/openai/v1/chat/completions \"HTTP/1.1 200 OK\"\n",
      "INFO:httpx:HTTP Request: POST https://api.groq.com/openai/v1/chat/completions \"HTTP/1.1 429 Too Many Requests\"\n",
      "INFO:groq._base_client:Retrying request to /openai/v1/chat/completions in 7.000000 seconds\n",
      "INFO:httpx:HTTP Request: POST https://api.groq.com/openai/v1/chat/completions \"HTTP/1.1 200 OK\"\n",
      "INFO:httpx:HTTP Request: POST https://api.groq.com/openai/v1/chat/completions \"HTTP/1.1 429 Too Many Requests\"\n",
      "INFO:groq._base_client:Retrying request to /openai/v1/chat/completions in 7.000000 seconds\n",
      "INFO:httpx:HTTP Request: POST https://api.groq.com/openai/v1/chat/completions \"HTTP/1.1 200 OK\"\n",
      "INFO:httpx:HTTP Request: POST https://api.groq.com/openai/v1/chat/completions \"HTTP/1.1 429 Too Many Requests\"\n",
      "INFO:groq._base_client:Retrying request to /openai/v1/chat/completions in 8.000000 seconds\n",
      "INFO:httpx:HTTP Request: POST https://api.groq.com/openai/v1/chat/completions \"HTTP/1.1 200 OK\"\n",
      "INFO:httpx:HTTP Request: POST https://api.groq.com/openai/v1/chat/completions \"HTTP/1.1 429 Too Many Requests\"\n",
      "INFO:groq._base_client:Retrying request to /openai/v1/chat/completions in 9.000000 seconds\n",
      "INFO:httpx:HTTP Request: POST https://api.groq.com/openai/v1/chat/completions \"HTTP/1.1 200 OK\"\n",
      "INFO:httpx:HTTP Request: POST https://api.groq.com/openai/v1/chat/completions \"HTTP/1.1 429 Too Many Requests\"\n",
      "INFO:groq._base_client:Retrying request to /openai/v1/chat/completions in 8.000000 seconds\n",
      "INFO:httpx:HTTP Request: POST https://api.groq.com/openai/v1/chat/completions \"HTTP/1.1 200 OK\"\n",
      "INFO:httpx:HTTP Request: POST https://api.groq.com/openai/v1/chat/completions \"HTTP/1.1 429 Too Many Requests\"\n",
      "INFO:groq._base_client:Retrying request to /openai/v1/chat/completions in 6.000000 seconds\n",
      "INFO:httpx:HTTP Request: POST https://api.groq.com/openai/v1/chat/completions \"HTTP/1.1 200 OK\"\n"
     ]
    }
   ],
   "source": [
    "for i,chunk in enumerate(rec_char_docs):\n",
    "    relationship_output.append(relationship_structured_output_model.invoke(\n",
    "        [{\"role\":\"system\",\n",
    "          \"content\":\"\"\"Extract the relationship between identified named entities from the given content\n",
    "              Example 1: \n",
    "              'In Silicon Valley, tech giants like Apple and Google create new technologies. Apple Park, their headquarters in Cupertino, is super cool'\n",
    "              \n",
    "              Relationship:\n",
    "              Apple Park is the headquarters of Apple, located in Cupertino, within Silicon Valley.\n",
    "              \n",
    "                               \n",
    "              Example 2: \n",
    "              'In New York City, the Statue of Liberty is a symbol of freedom. It was a gift from France and sits on Liberty Island, near the Hudson River'\n",
    "              \n",
    "              Relationships: \n",
    "              Statue of Liberty is located in New York City and situated on Liberty Island.\n",
    "              Statue of Liberty was a gift from France to the United States.\n",
    "              Liberty Island, where the Statue of Liberty stands, overlooks the Hudson River. \n",
    "              \n",
    "              \n",
    "              Example 3:\n",
    "              'In Paris, the Eiffel Tower remains an iconic symbol of French culture and engineering brilliance. Lots of people visit the Louvre Museum to see amazing art like the Mona Lisa'\n",
    "              \n",
    "              Relationships: \n",
    "              Eiffel Tower is an iconic landmark located in Paris, symbolizing French culture and engineering brilliance. \n",
    "              Louvre Museum is situated in Paris and houses the famous Mona Lisa, attracting art enthusiasts.\n",
    "          \"\"\"},\n",
    "         \n",
    "         {\"role\":\"user\",\n",
    "          \"content\": chunk.page_content + entities_output[i].entities}]))\n",
    "    "
   ],
   "metadata": {
    "collapsed": false,
    "ExecuteTime": {
     "end_time": "2025-01-03T15:21:13.936331700Z",
     "start_time": "2025-01-03T15:19:38.506114600Z"
    }
   },
   "id": "d054d70da6d4cd10"
  },
  {
   "cell_type": "code",
   "execution_count": 16,
   "outputs": [
    {
     "data": {
      "text/plain": "[EntityAndRelationship_Extraction(relationship=[NER_structure(Subject='Romeo and Juliet', Predicate='is written by', Object='William Shakespeare'), NER_structure(Subject='Project Gutenberg', Predicate='hosts', Object='Romeo and Juliet'), NER_structure(Subject='Project Gutenberg License', Predicate='applies to', Object='Romeo and Juliet'), NER_structure(Subject='PG Shakespeare Team', Predicate='contributed to', Object='Romeo and Juliet'), NER_structure(Subject='Romeo and Juliet', Predicate='is available in', Object='English'), NER_structure(Subject='Romeo and Juliet', Predicate='is accessible at', Object='www.gutenberg.org')]),\n EntityAndRelationship_Extraction(relationship=[NER_structure(Subject='Romeo and Juliet', Predicate='written by', Object='William Shakespeare'), NER_structure(Subject='Capulet', Predicate='has house in', Object='Verona'), NER_structure(Subject='Friar Lawrence', Predicate='lives in', Object='Verona'), NER_structure(Subject='Romeo', Predicate='loves', Object='Juliet'), NER_structure(Subject='Juliet', Predicate='lives in', Object='Capulet’s House'), NER_structure(Subject='Mantua', Predicate='city where', Object='Romeo lives in exile')]),\n EntityAndRelationship_Extraction(relationship=[NER_structure(Subject='Romeo', Predicate='son of', Object='Montague'), NER_structure(Subject='Juliet', Predicate='daughter of', Object='Capulet'), NER_structure(Subject='Montague', Predicate='at feud with', Object='Capulets'), NER_structure(Subject='Escalus', Predicate='Prince of', Object='Verona'), NER_structure(Subject='Mercutio', Predicate='kinsman to', Object='Escalus'), NER_structure(Subject='Paris', Predicate='kinsman to', Object='Escalus'), NER_structure(Subject='Benvolio', Predicate='nephew to', Object='Montague'), NER_structure(Subject='Tybalt', Predicate='nephew to', Object='Lady Capulet'), NER_structure(Subject='Friar Lawrence', Predicate='a Franciscan of', Object='Verona')]),\n EntityAndRelationship_Extraction(relationship=[NER_structure(Subject='Chorus', Predicate='introduces', Object='Verona'), NER_structure(Subject='Sampson', Predicate='is in', Object='Verona'), NER_structure(Subject='Gregory', Predicate='is with', Object='Sampson'), NER_structure(Subject='Verona', Predicate='is the setting for', Object='the play'), NER_structure(Subject='Mantua', Predicate='is a location in', Object='the play')]),\n EntityAndRelationship_Extraction(relationship=[NER_structure(Subject='Sampson', Predicate='is a servant of', Object='House of Capulet'), NER_structure(Subject='Gregory', Predicate='is a servant of', Object='House of Capulet'), NER_structure(Subject='Sampson', Predicate='has a feud with', Object='House of Montague'), NER_structure(Subject='Gregory', Predicate='has a feud with', Object='House of Montague'), NER_structure(Subject='House of Capulet', Predicate='is in conflict with', Object='House of Montague')]),\n EntityAndRelationship_Extraction(relationship=[NER_structure(Subject='Sampson', Predicate='is a servant of', Object='Capulets'), NER_structure(Subject='Gregory', Predicate='is a servant of', Object='Capulets'), NER_structure(Subject='Abram', Predicate='is a servant of', Object='Montagues'), NER_structure(Subject='Balthasar', Predicate='is a servant of', Object='Montagues'), NER_structure(Subject='Sampson', Predicate='will fight', Object='servants of Montagues'), NER_structure(Subject='Gregory', Predicate='will support', Object='Sampson')]),\n EntityAndRelationship_Extraction(relationship=[NER_structure(Subject='Sampson', Predicate='serves', Object='a man as good as Abram'), NER_structure(Subject='Benvolio', Predicate='is kinsman of', Object=\"Gregory's master\"), NER_structure(Subject='Sampson', Predicate='fights', Object='Abram'), NER_structure(Subject='Benvolio', Predicate='interrupts', Object='the fight between Sampson and Abram'), NER_structure(Subject='Tybalt', Predicate='enters', Object='the scene where the fight occurs')]),\n EntityAndRelationship_Extraction(relationship=[NER_structure(Subject='Tybalt', Predicate='fights', Object='Benvolio'), NER_structure(Subject='Benvolio', Predicate='keeps the peace', Object='among the Citizens'), NER_structure(Subject='Capulet', Predicate='is the enemy of', Object='Montague'), NER_structure(Subject='Montague', Predicate='is the enemy of', Object='Capulet'), NER_structure(Subject='Prince Escalus', Predicate='intervenes in the fight between', Object='Capulets and Montagues'), NER_structure(Subject='Tybalt', Predicate='is a member of the', Object='Capulets'), NER_structure(Subject='Benvolio', Predicate='is a member of the', Object='Montagues')]),\n EntityAndRelationship_Extraction(relationship=[NER_structure(Subject='Prince', Predicate='governs', Object='Verona'), NER_structure(Subject='Capulet', Predicate='has conflict with', Object='Montague'), NER_structure(Subject='Montague', Predicate='has conflict with', Object='Capulet'), NER_structure(Subject='Verona', Predicate='contains', Object='Free-town'), NER_structure(Subject='Prince', Predicate='summons', Object='Capulet'), NER_structure(Subject='Prince', Predicate='summons', Object='Montague')]),\n EntityAndRelationship_Extraction(relationship=[NER_structure(Subject='Romeo', Predicate='is the son of', Object='Montague'), NER_structure(Subject='Tybalt', Predicate='is the nephew of', Object='Capulet'), NER_structure(Subject='Benvolio', Predicate='is the nephew of', Object='Montague'), NER_structure(Subject='Lady Montague', Predicate='is the mother of', Object='Romeo'), NER_structure(Subject='Prince', Predicate='parted', Object='the fight between Montague and Capulet families'), NER_structure(Subject='Tybalt', Predicate='fought with', Object='Benvolio'), NER_structure(Subject='Capulet', Predicate='is the adversary of', Object='Montague')])]"
     },
     "execution_count": 16,
     "metadata": {},
     "output_type": "execute_result"
    }
   ],
   "source": [
    "relationship_output"
   ],
   "metadata": {
    "collapsed": false,
    "ExecuteTime": {
     "end_time": "2025-01-03T15:21:18.708932400Z",
     "start_time": "2025-01-03T15:21:18.688832500Z"
    }
   },
   "id": "df6aebe5fe83da0f"
  },
  {
   "cell_type": "code",
   "execution_count": 17,
   "outputs": [],
   "source": [
    "formated_entities=[]\n",
    "\n",
    "for entity in entities_output:\n",
    "    for _ in entity.entities.split(\",\"):    \n",
    "        ent = {\"entity_name\":_, \n",
    "               \"entity_type\":\"\",\n",
    "               \"description\":\"\",\n",
    "               \"source_id\":\"\"\n",
    "               }\n",
    "        formated_entities.append(ent)"
   ],
   "metadata": {
    "collapsed": false,
    "ExecuteTime": {
     "end_time": "2025-01-03T15:21:22.260909800Z",
     "start_time": "2025-01-03T15:21:22.238035900Z"
    }
   },
   "id": "b912e2f8cb33e9e8"
  },
  {
   "cell_type": "code",
   "execution_count": 18,
   "outputs": [
    {
     "data": {
      "text/plain": "[{'entity_name': 'Romeo and Juliet',\n  'entity_type': '',\n  'description': '',\n  'source_id': ''},\n {'entity_name': ' United States',\n  'entity_type': '',\n  'description': '',\n  'source_id': ''},\n {'entity_name': ' Project Gutenberg',\n  'entity_type': '',\n  'description': '',\n  'source_id': ''},\n {'entity_name': ' Project Gutenberg License',\n  'entity_type': '',\n  'description': '',\n  'source_id': ''},\n {'entity_name': ' www.gutenberg.org',\n  'entity_type': '',\n  'description': '',\n  'source_id': ''},\n {'entity_name': ' William Shakespeare',\n  'entity_type': '',\n  'description': '',\n  'source_id': ''},\n {'entity_name': ' English',\n  'entity_type': '',\n  'description': '',\n  'source_id': ''},\n {'entity_name': ' PG Shakespeare Team',\n  'entity_type': '',\n  'description': '',\n  'source_id': ''},\n {'entity_name': ' Project Gutenberg',\n  'entity_type': '',\n  'description': '',\n  'source_id': ''},\n {'entity_name': ' THE TRAGEDY OF ROMEO AND JULIET',\n  'entity_type': '',\n  'description': '',\n  'source_id': ''},\n {'entity_name': 'Romeo and Juliet',\n  'entity_type': '',\n  'description': '',\n  'source_id': ''},\n {'entity_name': ' William Shakespeare',\n  'entity_type': '',\n  'description': '',\n  'source_id': ''},\n {'entity_name': ' Capulet',\n  'entity_type': '',\n  'description': '',\n  'source_id': ''},\n {'entity_name': ' Friar Lawrence',\n  'entity_type': '',\n  'description': '',\n  'source_id': ''},\n {'entity_name': ' Mantua',\n  'entity_type': '',\n  'description': '',\n  'source_id': ''},\n {'entity_name': ' Juliet',\n  'entity_type': '',\n  'description': '',\n  'source_id': ''},\n {'entity_name': 'ESCALUS',\n  'entity_type': '',\n  'description': '',\n  'source_id': ''},\n {'entity_name': ' MERCUTIO',\n  'entity_type': '',\n  'description': '',\n  'source_id': ''},\n {'entity_name': ' PARIS',\n  'entity_type': '',\n  'description': '',\n  'source_id': ''},\n {'entity_name': ' MONTAGUE',\n  'entity_type': '',\n  'description': '',\n  'source_id': ''},\n {'entity_name': ' LADY MONTAGUE',\n  'entity_type': '',\n  'description': '',\n  'source_id': ''},\n {'entity_name': ' ROMEO',\n  'entity_type': '',\n  'description': '',\n  'source_id': ''},\n {'entity_name': ' BENVOLIO',\n  'entity_type': '',\n  'description': '',\n  'source_id': ''},\n {'entity_name': ' ABRAM',\n  'entity_type': '',\n  'description': '',\n  'source_id': ''},\n {'entity_name': ' BALTHASAR',\n  'entity_type': '',\n  'description': '',\n  'source_id': ''},\n {'entity_name': ' CAPULET',\n  'entity_type': '',\n  'description': '',\n  'source_id': ''},\n {'entity_name': ' LADY CAPULET',\n  'entity_type': '',\n  'description': '',\n  'source_id': ''},\n {'entity_name': ' JULIET',\n  'entity_type': '',\n  'description': '',\n  'source_id': ''},\n {'entity_name': ' TYBALT',\n  'entity_type': '',\n  'description': '',\n  'source_id': ''},\n {'entity_name': ' CAPULET’S COUSIN',\n  'entity_type': '',\n  'description': '',\n  'source_id': ''},\n {'entity_name': ' NURSE',\n  'entity_type': '',\n  'description': '',\n  'source_id': ''},\n {'entity_name': ' PETER',\n  'entity_type': '',\n  'description': '',\n  'source_id': ''},\n {'entity_name': ' SAMPSON',\n  'entity_type': '',\n  'description': '',\n  'source_id': ''},\n {'entity_name': ' GREGORY',\n  'entity_type': '',\n  'description': '',\n  'source_id': ''},\n {'entity_name': ' FRIAR LAWRENCE',\n  'entity_type': '',\n  'description': '',\n  'source_id': ''},\n {'entity_name': ' FRIAR JOHN',\n  'entity_type': '',\n  'description': '',\n  'source_id': ''},\n {'entity_name': ' Apothecary',\n  'entity_type': '',\n  'description': '',\n  'source_id': ''},\n {'entity_name': ' CHORUS',\n  'entity_type': '',\n  'description': '',\n  'source_id': ''},\n {'entity_name': ' Verona',\n  'entity_type': '',\n  'description': '',\n  'source_id': ''},\n {'entity_name': ' Franciscan',\n  'entity_type': '',\n  'description': '',\n  'source_id': ''},\n {'entity_name': ' Capulets',\n  'entity_type': '',\n  'description': '',\n  'source_id': ''},\n {'entity_name': ' Montagues',\n  'entity_type': '',\n  'description': '',\n  'source_id': ''},\n {'entity_name': ' Veronese',\n  'entity_type': '',\n  'description': '',\n  'source_id': ''},\n {'entity_name': ' Juliet’s Nurse',\n  'entity_type': '',\n  'description': '',\n  'source_id': ''},\n {'entity_name': 'Verona',\n  'entity_type': '',\n  'description': '',\n  'source_id': ''},\n {'entity_name': ' Chorus',\n  'entity_type': '',\n  'description': '',\n  'source_id': ''},\n {'entity_name': ' Sampson',\n  'entity_type': '',\n  'description': '',\n  'source_id': ''},\n {'entity_name': ' Gregory',\n  'entity_type': '',\n  'description': '',\n  'source_id': ''},\n {'entity_name': ' Mantua',\n  'entity_type': '',\n  'description': '',\n  'source_id': ''},\n {'entity_name': 'Sampson',\n  'entity_type': '',\n  'description': '',\n  'source_id': ''},\n {'entity_name': ' Gregory',\n  'entity_type': '',\n  'description': '',\n  'source_id': ''},\n {'entity_name': ' Montague',\n  'entity_type': '',\n  'description': '',\n  'source_id': ''},\n {'entity_name': 'Gregory',\n  'entity_type': '',\n  'description': '',\n  'source_id': ''},\n {'entity_name': ' Sampson',\n  'entity_type': '',\n  'description': '',\n  'source_id': ''},\n {'entity_name': ' Montagues',\n  'entity_type': '',\n  'description': '',\n  'source_id': ''},\n {'entity_name': ' Abram',\n  'entity_type': '',\n  'description': '',\n  'source_id': ''},\n {'entity_name': ' Balthasar',\n  'entity_type': '',\n  'description': '',\n  'source_id': ''},\n {'entity_name': 'Gregory',\n  'entity_type': '',\n  'description': '',\n  'source_id': ''},\n {'entity_name': ' Sampson',\n  'entity_type': '',\n  'description': '',\n  'source_id': ''},\n {'entity_name': ' Abram',\n  'entity_type': '',\n  'description': '',\n  'source_id': ''},\n {'entity_name': ' Benvolio',\n  'entity_type': '',\n  'description': '',\n  'source_id': ''},\n {'entity_name': ' Tybalt',\n  'entity_type': '',\n  'description': '',\n  'source_id': ''},\n {'entity_name': 'Tybalt',\n  'entity_type': '',\n  'description': '',\n  'source_id': ''},\n {'entity_name': ' Benvolio',\n  'entity_type': '',\n  'description': '',\n  'source_id': ''},\n {'entity_name': ' Citizens',\n  'entity_type': '',\n  'description': '',\n  'source_id': ''},\n {'entity_name': ' Capulet',\n  'entity_type': '',\n  'description': '',\n  'source_id': ''},\n {'entity_name': ' Lady Capulet',\n  'entity_type': '',\n  'description': '',\n  'source_id': ''},\n {'entity_name': ' Montague',\n  'entity_type': '',\n  'description': '',\n  'source_id': ''},\n {'entity_name': ' Lady Montague',\n  'entity_type': '',\n  'description': '',\n  'source_id': ''},\n {'entity_name': ' Prince Escalus',\n  'entity_type': '',\n  'description': '',\n  'source_id': ''},\n {'entity_name': ' Attendants',\n  'entity_type': '',\n  'description': '',\n  'source_id': ''},\n {'entity_name': ' Montagues',\n  'entity_type': '',\n  'description': '',\n  'source_id': ''},\n {'entity_name': ' Capulets',\n  'entity_type': '',\n  'description': '',\n  'source_id': ''},\n {'entity_name': 'PRINCE',\n  'entity_type': '',\n  'description': '',\n  'source_id': ''},\n {'entity_name': ' Capulet',\n  'entity_type': '',\n  'description': '',\n  'source_id': ''},\n {'entity_name': ' Montague',\n  'entity_type': '',\n  'description': '',\n  'source_id': ''},\n {'entity_name': ' Verona',\n  'entity_type': '',\n  'description': '',\n  'source_id': ''},\n {'entity_name': ' Free-town',\n  'entity_type': '',\n  'description': '',\n  'source_id': ''},\n {'entity_name': 'MONTAGUE',\n  'entity_type': '',\n  'description': '',\n  'source_id': ''},\n {'entity_name': ' BENVOLIO',\n  'entity_type': '',\n  'description': '',\n  'source_id': ''},\n {'entity_name': ' Tybalt',\n  'entity_type': '',\n  'description': '',\n  'source_id': ''},\n {'entity_name': ' Prince',\n  'entity_type': '',\n  'description': '',\n  'source_id': ''},\n {'entity_name': ' Capulet',\n  'entity_type': '',\n  'description': '',\n  'source_id': ''},\n {'entity_name': ' Lady Capulet',\n  'entity_type': '',\n  'description': '',\n  'source_id': ''},\n {'entity_name': ' Romeo',\n  'entity_type': '',\n  'description': '',\n  'source_id': ''},\n {'entity_name': ' Lady Montague',\n  'entity_type': '',\n  'description': '',\n  'source_id': ''}]"
     },
     "execution_count": 18,
     "metadata": {},
     "output_type": "execute_result"
    }
   ],
   "source": [
    "formated_entities"
   ],
   "metadata": {
    "collapsed": false,
    "ExecuteTime": {
     "end_time": "2025-01-03T15:21:23.441460100Z",
     "start_time": "2025-01-03T15:21:23.409554400Z"
    }
   },
   "id": "e7c8db7b52e5893e"
  },
  {
   "cell_type": "code",
   "execution_count": 19,
   "outputs": [],
   "source": [
    "formated_relationship=[]\n",
    "\n",
    "for relationship in relationship_output:\n",
    "    for _ in relationship.relationship:\n",
    "        relation = {\"src_id\":_.Subject,\n",
    "                    \"tgt_id\":_.Object,\n",
    "                    \"description\":_.Predicate,\n",
    "                    \"keywords\":\"\",\n",
    "                    \"weight\":1.0,\n",
    "                    \"source_id\":\"\"\n",
    "                    }\n",
    "        formated_relationship.append(relation)"
   ],
   "metadata": {
    "collapsed": false,
    "ExecuteTime": {
     "end_time": "2025-01-03T15:21:24.543095200Z",
     "start_time": "2025-01-03T15:21:24.517231100Z"
    }
   },
   "id": "cc27de8a0ffc9c2b"
  },
  {
   "cell_type": "code",
   "execution_count": 20,
   "outputs": [
    {
     "data": {
      "text/plain": "[{'src_id': 'Romeo and Juliet',\n  'tgt_id': 'William Shakespeare',\n  'description': 'is written by',\n  'keywords': '',\n  'weight': 1.0,\n  'source_id': ''},\n {'src_id': 'Project Gutenberg',\n  'tgt_id': 'Romeo and Juliet',\n  'description': 'hosts',\n  'keywords': '',\n  'weight': 1.0,\n  'source_id': ''},\n {'src_id': 'Project Gutenberg License',\n  'tgt_id': 'Romeo and Juliet',\n  'description': 'applies to',\n  'keywords': '',\n  'weight': 1.0,\n  'source_id': ''},\n {'src_id': 'PG Shakespeare Team',\n  'tgt_id': 'Romeo and Juliet',\n  'description': 'contributed to',\n  'keywords': '',\n  'weight': 1.0,\n  'source_id': ''},\n {'src_id': 'Romeo and Juliet',\n  'tgt_id': 'English',\n  'description': 'is available in',\n  'keywords': '',\n  'weight': 1.0,\n  'source_id': ''},\n {'src_id': 'Romeo and Juliet',\n  'tgt_id': 'www.gutenberg.org',\n  'description': 'is accessible at',\n  'keywords': '',\n  'weight': 1.0,\n  'source_id': ''},\n {'src_id': 'Romeo and Juliet',\n  'tgt_id': 'William Shakespeare',\n  'description': 'written by',\n  'keywords': '',\n  'weight': 1.0,\n  'source_id': ''},\n {'src_id': 'Capulet',\n  'tgt_id': 'Verona',\n  'description': 'has house in',\n  'keywords': '',\n  'weight': 1.0,\n  'source_id': ''},\n {'src_id': 'Friar Lawrence',\n  'tgt_id': 'Verona',\n  'description': 'lives in',\n  'keywords': '',\n  'weight': 1.0,\n  'source_id': ''},\n {'src_id': 'Romeo',\n  'tgt_id': 'Juliet',\n  'description': 'loves',\n  'keywords': '',\n  'weight': 1.0,\n  'source_id': ''},\n {'src_id': 'Juliet',\n  'tgt_id': 'Capulet’s House',\n  'description': 'lives in',\n  'keywords': '',\n  'weight': 1.0,\n  'source_id': ''},\n {'src_id': 'Mantua',\n  'tgt_id': 'Romeo lives in exile',\n  'description': 'city where',\n  'keywords': '',\n  'weight': 1.0,\n  'source_id': ''},\n {'src_id': 'Romeo',\n  'tgt_id': 'Montague',\n  'description': 'son of',\n  'keywords': '',\n  'weight': 1.0,\n  'source_id': ''},\n {'src_id': 'Juliet',\n  'tgt_id': 'Capulet',\n  'description': 'daughter of',\n  'keywords': '',\n  'weight': 1.0,\n  'source_id': ''},\n {'src_id': 'Montague',\n  'tgt_id': 'Capulets',\n  'description': 'at feud with',\n  'keywords': '',\n  'weight': 1.0,\n  'source_id': ''},\n {'src_id': 'Escalus',\n  'tgt_id': 'Verona',\n  'description': 'Prince of',\n  'keywords': '',\n  'weight': 1.0,\n  'source_id': ''},\n {'src_id': 'Mercutio',\n  'tgt_id': 'Escalus',\n  'description': 'kinsman to',\n  'keywords': '',\n  'weight': 1.0,\n  'source_id': ''},\n {'src_id': 'Paris',\n  'tgt_id': 'Escalus',\n  'description': 'kinsman to',\n  'keywords': '',\n  'weight': 1.0,\n  'source_id': ''},\n {'src_id': 'Benvolio',\n  'tgt_id': 'Montague',\n  'description': 'nephew to',\n  'keywords': '',\n  'weight': 1.0,\n  'source_id': ''},\n {'src_id': 'Tybalt',\n  'tgt_id': 'Lady Capulet',\n  'description': 'nephew to',\n  'keywords': '',\n  'weight': 1.0,\n  'source_id': ''},\n {'src_id': 'Friar Lawrence',\n  'tgt_id': 'Verona',\n  'description': 'a Franciscan of',\n  'keywords': '',\n  'weight': 1.0,\n  'source_id': ''},\n {'src_id': 'Chorus',\n  'tgt_id': 'Verona',\n  'description': 'introduces',\n  'keywords': '',\n  'weight': 1.0,\n  'source_id': ''},\n {'src_id': 'Sampson',\n  'tgt_id': 'Verona',\n  'description': 'is in',\n  'keywords': '',\n  'weight': 1.0,\n  'source_id': ''},\n {'src_id': 'Gregory',\n  'tgt_id': 'Sampson',\n  'description': 'is with',\n  'keywords': '',\n  'weight': 1.0,\n  'source_id': ''},\n {'src_id': 'Verona',\n  'tgt_id': 'the play',\n  'description': 'is the setting for',\n  'keywords': '',\n  'weight': 1.0,\n  'source_id': ''},\n {'src_id': 'Mantua',\n  'tgt_id': 'the play',\n  'description': 'is a location in',\n  'keywords': '',\n  'weight': 1.0,\n  'source_id': ''},\n {'src_id': 'Sampson',\n  'tgt_id': 'House of Capulet',\n  'description': 'is a servant of',\n  'keywords': '',\n  'weight': 1.0,\n  'source_id': ''},\n {'src_id': 'Gregory',\n  'tgt_id': 'House of Capulet',\n  'description': 'is a servant of',\n  'keywords': '',\n  'weight': 1.0,\n  'source_id': ''},\n {'src_id': 'Sampson',\n  'tgt_id': 'House of Montague',\n  'description': 'has a feud with',\n  'keywords': '',\n  'weight': 1.0,\n  'source_id': ''},\n {'src_id': 'Gregory',\n  'tgt_id': 'House of Montague',\n  'description': 'has a feud with',\n  'keywords': '',\n  'weight': 1.0,\n  'source_id': ''},\n {'src_id': 'House of Capulet',\n  'tgt_id': 'House of Montague',\n  'description': 'is in conflict with',\n  'keywords': '',\n  'weight': 1.0,\n  'source_id': ''},\n {'src_id': 'Sampson',\n  'tgt_id': 'Capulets',\n  'description': 'is a servant of',\n  'keywords': '',\n  'weight': 1.0,\n  'source_id': ''},\n {'src_id': 'Gregory',\n  'tgt_id': 'Capulets',\n  'description': 'is a servant of',\n  'keywords': '',\n  'weight': 1.0,\n  'source_id': ''},\n {'src_id': 'Abram',\n  'tgt_id': 'Montagues',\n  'description': 'is a servant of',\n  'keywords': '',\n  'weight': 1.0,\n  'source_id': ''},\n {'src_id': 'Balthasar',\n  'tgt_id': 'Montagues',\n  'description': 'is a servant of',\n  'keywords': '',\n  'weight': 1.0,\n  'source_id': ''},\n {'src_id': 'Sampson',\n  'tgt_id': 'servants of Montagues',\n  'description': 'will fight',\n  'keywords': '',\n  'weight': 1.0,\n  'source_id': ''},\n {'src_id': 'Gregory',\n  'tgt_id': 'Sampson',\n  'description': 'will support',\n  'keywords': '',\n  'weight': 1.0,\n  'source_id': ''},\n {'src_id': 'Sampson',\n  'tgt_id': 'a man as good as Abram',\n  'description': 'serves',\n  'keywords': '',\n  'weight': 1.0,\n  'source_id': ''},\n {'src_id': 'Benvolio',\n  'tgt_id': \"Gregory's master\",\n  'description': 'is kinsman of',\n  'keywords': '',\n  'weight': 1.0,\n  'source_id': ''},\n {'src_id': 'Sampson',\n  'tgt_id': 'Abram',\n  'description': 'fights',\n  'keywords': '',\n  'weight': 1.0,\n  'source_id': ''},\n {'src_id': 'Benvolio',\n  'tgt_id': 'the fight between Sampson and Abram',\n  'description': 'interrupts',\n  'keywords': '',\n  'weight': 1.0,\n  'source_id': ''},\n {'src_id': 'Tybalt',\n  'tgt_id': 'the scene where the fight occurs',\n  'description': 'enters',\n  'keywords': '',\n  'weight': 1.0,\n  'source_id': ''},\n {'src_id': 'Tybalt',\n  'tgt_id': 'Benvolio',\n  'description': 'fights',\n  'keywords': '',\n  'weight': 1.0,\n  'source_id': ''},\n {'src_id': 'Benvolio',\n  'tgt_id': 'among the Citizens',\n  'description': 'keeps the peace',\n  'keywords': '',\n  'weight': 1.0,\n  'source_id': ''},\n {'src_id': 'Capulet',\n  'tgt_id': 'Montague',\n  'description': 'is the enemy of',\n  'keywords': '',\n  'weight': 1.0,\n  'source_id': ''},\n {'src_id': 'Montague',\n  'tgt_id': 'Capulet',\n  'description': 'is the enemy of',\n  'keywords': '',\n  'weight': 1.0,\n  'source_id': ''},\n {'src_id': 'Prince Escalus',\n  'tgt_id': 'Capulets and Montagues',\n  'description': 'intervenes in the fight between',\n  'keywords': '',\n  'weight': 1.0,\n  'source_id': ''},\n {'src_id': 'Tybalt',\n  'tgt_id': 'Capulets',\n  'description': 'is a member of the',\n  'keywords': '',\n  'weight': 1.0,\n  'source_id': ''},\n {'src_id': 'Benvolio',\n  'tgt_id': 'Montagues',\n  'description': 'is a member of the',\n  'keywords': '',\n  'weight': 1.0,\n  'source_id': ''},\n {'src_id': 'Prince',\n  'tgt_id': 'Verona',\n  'description': 'governs',\n  'keywords': '',\n  'weight': 1.0,\n  'source_id': ''},\n {'src_id': 'Capulet',\n  'tgt_id': 'Montague',\n  'description': 'has conflict with',\n  'keywords': '',\n  'weight': 1.0,\n  'source_id': ''},\n {'src_id': 'Montague',\n  'tgt_id': 'Capulet',\n  'description': 'has conflict with',\n  'keywords': '',\n  'weight': 1.0,\n  'source_id': ''},\n {'src_id': 'Verona',\n  'tgt_id': 'Free-town',\n  'description': 'contains',\n  'keywords': '',\n  'weight': 1.0,\n  'source_id': ''},\n {'src_id': 'Prince',\n  'tgt_id': 'Capulet',\n  'description': 'summons',\n  'keywords': '',\n  'weight': 1.0,\n  'source_id': ''},\n {'src_id': 'Prince',\n  'tgt_id': 'Montague',\n  'description': 'summons',\n  'keywords': '',\n  'weight': 1.0,\n  'source_id': ''},\n {'src_id': 'Romeo',\n  'tgt_id': 'Montague',\n  'description': 'is the son of',\n  'keywords': '',\n  'weight': 1.0,\n  'source_id': ''},\n {'src_id': 'Tybalt',\n  'tgt_id': 'Capulet',\n  'description': 'is the nephew of',\n  'keywords': '',\n  'weight': 1.0,\n  'source_id': ''},\n {'src_id': 'Benvolio',\n  'tgt_id': 'Montague',\n  'description': 'is the nephew of',\n  'keywords': '',\n  'weight': 1.0,\n  'source_id': ''},\n {'src_id': 'Lady Montague',\n  'tgt_id': 'Romeo',\n  'description': 'is the mother of',\n  'keywords': '',\n  'weight': 1.0,\n  'source_id': ''},\n {'src_id': 'Prince',\n  'tgt_id': 'the fight between Montague and Capulet families',\n  'description': 'parted',\n  'keywords': '',\n  'weight': 1.0,\n  'source_id': ''},\n {'src_id': 'Tybalt',\n  'tgt_id': 'Benvolio',\n  'description': 'fought with',\n  'keywords': '',\n  'weight': 1.0,\n  'source_id': ''},\n {'src_id': 'Capulet',\n  'tgt_id': 'Montague',\n  'description': 'is the adversary of',\n  'keywords': '',\n  'weight': 1.0,\n  'source_id': ''}]"
     },
     "execution_count": 20,
     "metadata": {},
     "output_type": "execute_result"
    }
   ],
   "source": [
    "formated_relationship"
   ],
   "metadata": {
    "collapsed": false,
    "ExecuteTime": {
     "end_time": "2025-01-03T15:21:26.811968800Z",
     "start_time": "2025-01-03T15:21:26.764582700Z"
    }
   },
   "id": "d533bdd5e0b3d2a1"
  },
  {
   "cell_type": "code",
   "execution_count": 21,
   "outputs": [],
   "source": [
    "formated_chunks = []\n",
    "for chunk in rec_char_docs:\n",
    "    _ch = {\n",
    "        \"content\":chunk.page_content,\n",
    "        \"source_id\":\"\"\n",
    "    }\n",
    "    formated_chunks.append(_ch)"
   ],
   "metadata": {
    "collapsed": false,
    "ExecuteTime": {
     "end_time": "2025-01-03T15:21:28.662164500Z",
     "start_time": "2025-01-03T15:21:28.642916Z"
    }
   },
   "id": "47d32dec86f3d07"
  },
  {
   "cell_type": "code",
   "execution_count": 22,
   "outputs": [
    {
     "data": {
      "text/plain": "[{'content': '\\ufeffThe Project Gutenberg eBook of Romeo and Juliet\\n    \\nThis ebook is for the use of anyone anywhere in the United States and\\nmost other parts of the world at no cost and with almost no restrictions\\nwhatsoever. You may copy it, give it away or re-use it under the terms\\nof the Project Gutenberg License included with this ebook or online\\nat www.gutenberg.org. If you are not located in the United States,\\nyou will have to check the laws of the country where you are located\\nbefore using this eBook.\\n\\nTitle: Romeo and Juliet\\n\\nAuthor: William Shakespeare\\n\\nRelease date: November 1, 1998 [eBook #1513]\\n                Most recently updated: June 27, 2023\\n\\nLanguage: English\\n\\nCredits: the PG Shakespeare Team, a team of about twenty Project Gutenberg volunteers\\n\\n\\n*** START OF THE PROJECT GUTENBERG EBOOK ROMEO AND JULIET ***\\n\\n\\n\\n\\nTHE TRAGEDY OF ROMEO AND JULIET\\n\\nby William Shakespeare\\n\\n\\n\\n\\nContents\\n\\nTHE PROLOGUE.',\n  'source_id': ''},\n {'content': 'THE TRAGEDY OF ROMEO AND JULIET\\n\\nby William Shakespeare\\n\\n\\n\\n\\nContents\\n\\nTHE PROLOGUE.\\n\\nACT I\\nScene I. A public place.\\nScene II. A Street.\\nScene III. Room in Capulet’s House.\\nScene IV. A Street.\\nScene V. A Hall in Capulet’s House.\\n\\nACT II\\nCHORUS.\\nScene I. An open place adjoining Capulet’s Garden.\\nScene II. Capulet’s Garden.\\nScene III. Friar Lawrence’s Cell.\\nScene IV. A Street.\\nScene V. Capulet’s Garden.\\nScene VI. Friar Lawrence’s Cell.\\n\\nACT III\\nScene I. A public Place.\\nScene II. A Room in Capulet’s House.\\nScene III. Friar Lawrence’s cell.\\nScene IV. A Room in Capulet’s House.\\nScene V. An open Gallery to Juliet’s Chamber, overlooking the Garden.\\n\\nACT IV\\nScene I. Friar Lawrence’s Cell.\\nScene II. Hall in Capulet’s House.\\nScene III. Juliet’s Chamber.\\nScene IV. Hall in Capulet’s House.\\nScene V. Juliet’s Chamber; Juliet on the bed.\\n\\nACT V\\nScene I. Mantua. A Street.\\nScene II. Friar Lawrence’s Cell.\\nScene III. A churchyard; in it a Monument belonging to the Capulets.\\n\\n\\n\\n\\n Dramatis Personæ',\n  'source_id': ''},\n {'content': 'Dramatis Personæ\\n\\nESCALUS, Prince of Verona.\\nMERCUTIO, kinsman to the Prince, and friend to Romeo.\\nPARIS, a young Nobleman, kinsman to the Prince.\\nPage to Paris.\\n\\nMONTAGUE, head of a Veronese family at feud with the Capulets.\\nLADY MONTAGUE, wife to Montague.\\nROMEO, son to Montague.\\nBENVOLIO, nephew to Montague, and friend to Romeo.\\nABRAM, servant to Montague.\\nBALTHASAR, servant to Romeo.\\n\\nCAPULET, head of a Veronese family at feud with the Montagues.\\nLADY CAPULET, wife to Capulet.\\nJULIET, daughter to Capulet.\\nTYBALT, nephew to Lady Capulet.\\nCAPULET’S COUSIN, an old man.\\nNURSE to Juliet.\\nPETER, servant to Juliet’s Nurse.\\nSAMPSON, servant to Capulet.\\nGREGORY, servant to Capulet.\\nServants.\\n\\nFRIAR LAWRENCE, a Franciscan.\\nFRIAR JOHN, of the same Order.\\nAn Apothecary.\\nCHORUS.\\nThree Musicians.\\nAn Officer.\\nCitizens of Verona; several Men and Women, relations to both houses;\\nMaskers, Guards, Watchmen and Attendants.',\n  'source_id': ''},\n {'content': 'SCENE. During the greater part of the Play in Verona; once, in the\\nFifth Act, at Mantua.\\n\\n\\n\\n\\nTHE PROLOGUE\\n\\n\\n Enter Chorus.\\n\\nCHORUS.\\nTwo households, both alike in dignity,\\nIn fair Verona, where we lay our scene,\\nFrom ancient grudge break to new mutiny,\\nWhere civil blood makes civil hands unclean.\\nFrom forth the fatal loins of these two foes\\nA pair of star-cross’d lovers take their life;\\nWhose misadventur’d piteous overthrows\\nDoth with their death bury their parents’ strife.\\nThe fearful passage of their death-mark’d love,\\nAnd the continuance of their parents’ rage,\\nWhich, but their children’s end, nought could remove,\\nIs now the two hours’ traffic of our stage;\\nThe which, if you with patient ears attend,\\nWhat here shall miss, our toil shall strive to mend.\\n\\n [_Exit._]\\n\\n\\n\\n\\nACT I\\n\\nSCENE I. A public place.\\n\\n\\n Enter Sampson and Gregory armed with swords and bucklers.\\n\\nSAMPSON.\\nGregory, on my word, we’ll not carry coals.\\n\\nGREGORY.\\nNo, for then we should be colliers.',\n  'source_id': ''},\n {'content': 'SAMPSON.\\nGregory, on my word, we’ll not carry coals.\\n\\nGREGORY.\\nNo, for then we should be colliers.\\n\\nSAMPSON.\\nI mean, if we be in choler, we’ll draw.\\n\\nGREGORY.\\nAy, while you live, draw your neck out o’ the collar.\\n\\nSAMPSON.\\nI strike quickly, being moved.\\n\\nGREGORY.\\nBut thou art not quickly moved to strike.\\n\\nSAMPSON.\\nA dog of the house of Montague moves me.\\n\\nGREGORY.\\nTo move is to stir; and to be valiant is to stand: therefore, if thou\\nart moved, thou runn’st away.\\n\\nSAMPSON.\\nA dog of that house shall move me to stand.\\nI will take the wall of any man or maid of Montague’s.\\n\\nGREGORY.\\nThat shows thee a weak slave, for the weakest goes to the wall.\\n\\nSAMPSON.\\nTrue, and therefore women, being the weaker vessels, are ever thrust to\\nthe wall: therefore I will push Montague’s men from the wall, and\\nthrust his maids to the wall.\\n\\nGREGORY.\\nThe quarrel is between our masters and us their men.',\n  'source_id': ''},\n {'content': 'GREGORY.\\nThe quarrel is between our masters and us their men.\\n\\nSAMPSON.\\n’Tis all one, I will show myself a tyrant: when I have fought with the\\nmen I will be civil with the maids, I will cut off their heads.\\n\\nGREGORY.\\nThe heads of the maids?\\n\\nSAMPSON.\\nAy, the heads of the maids, or their maidenheads; take it in what sense\\nthou wilt.\\n\\nGREGORY.\\nThey must take it in sense that feel it.\\n\\nSAMPSON.\\nMe they shall feel while I am able to stand: and ’tis known I am a\\npretty piece of flesh.\\n\\nGREGORY.\\n’Tis well thou art not fish; if thou hadst, thou hadst been poor John.\\nDraw thy tool; here comes of the house of Montagues.\\n\\n Enter Abram and Balthasar.\\n\\nSAMPSON.\\nMy naked weapon is out: quarrel, I will back thee.\\n\\nGREGORY.\\nHow? Turn thy back and run?\\n\\nSAMPSON.\\nFear me not.\\n\\nGREGORY.\\nNo, marry; I fear thee!\\n\\nSAMPSON.\\nLet us take the law of our sides; let them begin.\\n\\nGREGORY.\\nI will frown as I pass by, and let them take it as they list.',\n  'source_id': ''},\n {'content': 'GREGORY.\\nI will frown as I pass by, and let them take it as they list.\\n\\nSAMPSON.\\nNay, as they dare. I will bite my thumb at them, which is disgrace to\\nthem if they bear it.\\n\\nABRAM.\\nDo you bite your thumb at us, sir?\\n\\nSAMPSON.\\nI do bite my thumb, sir.\\n\\nABRAM.\\nDo you bite your thumb at us, sir?\\n\\nSAMPSON.\\nIs the law of our side if I say ay?\\n\\nGREGORY.\\nNo.\\n\\nSAMPSON.\\nNo sir, I do not bite my thumb at you, sir; but I bite my thumb, sir.\\n\\nGREGORY.\\nDo you quarrel, sir?\\n\\nABRAM.\\nQuarrel, sir? No, sir.\\n\\nSAMPSON.\\nBut if you do, sir, I am for you. I serve as good a man as you.\\n\\nABRAM.\\nNo better.\\n\\nSAMPSON.\\nWell, sir.\\n\\n Enter Benvolio.\\n\\nGREGORY.\\nSay better; here comes one of my master’s kinsmen.\\n\\nSAMPSON.\\nYes, better, sir.\\n\\nABRAM.\\nYou lie.\\n\\nSAMPSON.\\nDraw, if you be men. Gregory, remember thy washing blow.\\n\\n [_They fight._]\\n\\nBENVOLIO.\\nPart, fools! put up your swords, you know not what you do.\\n\\n [_Beats down their swords._]\\n\\n Enter Tybalt.',\n  'source_id': ''},\n {'content': '[_Beats down their swords._]\\n\\n Enter Tybalt.\\n\\nTYBALT.\\nWhat, art thou drawn among these heartless hinds?\\nTurn thee Benvolio, look upon thy death.\\n\\nBENVOLIO.\\nI do but keep the peace, put up thy sword,\\nOr manage it to part these men with me.\\n\\nTYBALT.\\nWhat, drawn, and talk of peace? I hate the word\\nAs I hate hell, all Montagues, and thee:\\nHave at thee, coward.\\n\\n [_They fight._]\\n\\n Enter three or four Citizens with clubs.\\n\\nFIRST CITIZEN.\\nClubs, bills and partisans! Strike! Beat them down!\\nDown with the Capulets! Down with the Montagues!\\n\\n Enter Capulet in his gown, and Lady Capulet.\\n\\nCAPULET.\\nWhat noise is this? Give me my long sword, ho!\\n\\nLADY CAPULET.\\nA crutch, a crutch! Why call you for a sword?\\n\\nCAPULET.\\nMy sword, I say! Old Montague is come,\\nAnd flourishes his blade in spite of me.\\n\\n Enter Montague and his Lady Montague.\\n\\nMONTAGUE.\\nThou villain Capulet! Hold me not, let me go.\\n\\nLADY MONTAGUE.\\nThou shalt not stir one foot to seek a foe.\\n\\n Enter Prince Escalus, with Attendants.',\n  'source_id': ''},\n {'content': 'PRINCE.\\nRebellious subjects, enemies to peace,\\nProfaners of this neighbour-stained steel,—\\nWill they not hear? What, ho! You men, you beasts,\\nThat quench the fire of your pernicious rage\\nWith purple fountains issuing from your veins,\\nOn pain of torture, from those bloody hands\\nThrow your mistemper’d weapons to the ground\\nAnd hear the sentence of your moved prince.\\nThree civil brawls, bred of an airy word,\\nBy thee, old Capulet, and Montague,\\nHave thrice disturb’d the quiet of our streets,\\nAnd made Verona’s ancient citizens\\nCast by their grave beseeming ornaments,\\nTo wield old partisans, in hands as old,\\nCanker’d with peace, to part your canker’d hate.\\nIf ever you disturb our streets again,\\nYour lives shall pay the forfeit of the peace.\\nFor this time all the rest depart away:\\nYou, Capulet, shall go along with me,\\nAnd Montague, come you this afternoon,\\nTo know our farther pleasure in this case,\\nTo old Free-town, our common judgement-place.\\nOnce more, on pain of death, all men depart.',\n  'source_id': ''},\n {'content': '[_Exeunt Prince and Attendants; Capulet, Lady Capulet, Tybalt,\\n Citizens and Servants._]\\n\\nMONTAGUE.\\nWho set this ancient quarrel new abroach?\\nSpeak, nephew, were you by when it began?\\n\\nBENVOLIO.\\nHere were the servants of your adversary\\nAnd yours, close fighting ere I did approach.\\nI drew to part them, in the instant came\\nThe fiery Tybalt, with his sword prepar’d,\\nWhich, as he breath’d defiance to my ears,\\nHe swung about his head, and cut the winds,\\nWho nothing hurt withal, hiss’d him in scorn.\\nWhile we were interchanging thrusts and blows\\nCame more and more, and fought on part and part,\\nTill the Prince came, who parted either part.\\n\\nLADY MONTAGUE.\\nO where is Romeo, saw you him today?\\nRight glad I am he was not at this fray.',\n  'source_id': ''}]"
     },
     "execution_count": 22,
     "metadata": {},
     "output_type": "execute_result"
    }
   ],
   "source": [
    "formated_chunks"
   ],
   "metadata": {
    "collapsed": false,
    "ExecuteTime": {
     "end_time": "2025-01-03T15:21:30.187718300Z",
     "start_time": "2025-01-03T15:21:30.153502700Z"
    }
   },
   "id": "4046464f2f759cbd"
  },
  {
   "cell_type": "code",
   "execution_count": 23,
   "outputs": [
    {
     "data": {
      "text/plain": "{'entities': [{'entity_name': 'Romeo and Juliet',\n   'entity_type': '',\n   'description': '',\n   'source_id': ''},\n  {'entity_name': ' United States',\n   'entity_type': '',\n   'description': '',\n   'source_id': ''},\n  {'entity_name': ' Project Gutenberg',\n   'entity_type': '',\n   'description': '',\n   'source_id': ''},\n  {'entity_name': ' Project Gutenberg License',\n   'entity_type': '',\n   'description': '',\n   'source_id': ''},\n  {'entity_name': ' www.gutenberg.org',\n   'entity_type': '',\n   'description': '',\n   'source_id': ''},\n  {'entity_name': ' William Shakespeare',\n   'entity_type': '',\n   'description': '',\n   'source_id': ''},\n  {'entity_name': ' English',\n   'entity_type': '',\n   'description': '',\n   'source_id': ''},\n  {'entity_name': ' PG Shakespeare Team',\n   'entity_type': '',\n   'description': '',\n   'source_id': ''},\n  {'entity_name': ' Project Gutenberg',\n   'entity_type': '',\n   'description': '',\n   'source_id': ''},\n  {'entity_name': ' THE TRAGEDY OF ROMEO AND JULIET',\n   'entity_type': '',\n   'description': '',\n   'source_id': ''},\n  {'entity_name': 'Romeo and Juliet',\n   'entity_type': '',\n   'description': '',\n   'source_id': ''},\n  {'entity_name': ' William Shakespeare',\n   'entity_type': '',\n   'description': '',\n   'source_id': ''},\n  {'entity_name': ' Capulet',\n   'entity_type': '',\n   'description': '',\n   'source_id': ''},\n  {'entity_name': ' Friar Lawrence',\n   'entity_type': '',\n   'description': '',\n   'source_id': ''},\n  {'entity_name': ' Mantua',\n   'entity_type': '',\n   'description': '',\n   'source_id': ''},\n  {'entity_name': ' Juliet',\n   'entity_type': '',\n   'description': '',\n   'source_id': ''},\n  {'entity_name': 'ESCALUS',\n   'entity_type': '',\n   'description': '',\n   'source_id': ''},\n  {'entity_name': ' MERCUTIO',\n   'entity_type': '',\n   'description': '',\n   'source_id': ''},\n  {'entity_name': ' PARIS',\n   'entity_type': '',\n   'description': '',\n   'source_id': ''},\n  {'entity_name': ' MONTAGUE',\n   'entity_type': '',\n   'description': '',\n   'source_id': ''},\n  {'entity_name': ' LADY MONTAGUE',\n   'entity_type': '',\n   'description': '',\n   'source_id': ''},\n  {'entity_name': ' ROMEO',\n   'entity_type': '',\n   'description': '',\n   'source_id': ''},\n  {'entity_name': ' BENVOLIO',\n   'entity_type': '',\n   'description': '',\n   'source_id': ''},\n  {'entity_name': ' ABRAM',\n   'entity_type': '',\n   'description': '',\n   'source_id': ''},\n  {'entity_name': ' BALTHASAR',\n   'entity_type': '',\n   'description': '',\n   'source_id': ''},\n  {'entity_name': ' CAPULET',\n   'entity_type': '',\n   'description': '',\n   'source_id': ''},\n  {'entity_name': ' LADY CAPULET',\n   'entity_type': '',\n   'description': '',\n   'source_id': ''},\n  {'entity_name': ' JULIET',\n   'entity_type': '',\n   'description': '',\n   'source_id': ''},\n  {'entity_name': ' TYBALT',\n   'entity_type': '',\n   'description': '',\n   'source_id': ''},\n  {'entity_name': ' CAPULET’S COUSIN',\n   'entity_type': '',\n   'description': '',\n   'source_id': ''},\n  {'entity_name': ' NURSE',\n   'entity_type': '',\n   'description': '',\n   'source_id': ''},\n  {'entity_name': ' PETER',\n   'entity_type': '',\n   'description': '',\n   'source_id': ''},\n  {'entity_name': ' SAMPSON',\n   'entity_type': '',\n   'description': '',\n   'source_id': ''},\n  {'entity_name': ' GREGORY',\n   'entity_type': '',\n   'description': '',\n   'source_id': ''},\n  {'entity_name': ' FRIAR LAWRENCE',\n   'entity_type': '',\n   'description': '',\n   'source_id': ''},\n  {'entity_name': ' FRIAR JOHN',\n   'entity_type': '',\n   'description': '',\n   'source_id': ''},\n  {'entity_name': ' Apothecary',\n   'entity_type': '',\n   'description': '',\n   'source_id': ''},\n  {'entity_name': ' CHORUS',\n   'entity_type': '',\n   'description': '',\n   'source_id': ''},\n  {'entity_name': ' Verona',\n   'entity_type': '',\n   'description': '',\n   'source_id': ''},\n  {'entity_name': ' Franciscan',\n   'entity_type': '',\n   'description': '',\n   'source_id': ''},\n  {'entity_name': ' Capulets',\n   'entity_type': '',\n   'description': '',\n   'source_id': ''},\n  {'entity_name': ' Montagues',\n   'entity_type': '',\n   'description': '',\n   'source_id': ''},\n  {'entity_name': ' Veronese',\n   'entity_type': '',\n   'description': '',\n   'source_id': ''},\n  {'entity_name': ' Juliet’s Nurse',\n   'entity_type': '',\n   'description': '',\n   'source_id': ''},\n  {'entity_name': 'Verona',\n   'entity_type': '',\n   'description': '',\n   'source_id': ''},\n  {'entity_name': ' Chorus',\n   'entity_type': '',\n   'description': '',\n   'source_id': ''},\n  {'entity_name': ' Sampson',\n   'entity_type': '',\n   'description': '',\n   'source_id': ''},\n  {'entity_name': ' Gregory',\n   'entity_type': '',\n   'description': '',\n   'source_id': ''},\n  {'entity_name': ' Mantua',\n   'entity_type': '',\n   'description': '',\n   'source_id': ''},\n  {'entity_name': 'Sampson',\n   'entity_type': '',\n   'description': '',\n   'source_id': ''},\n  {'entity_name': ' Gregory',\n   'entity_type': '',\n   'description': '',\n   'source_id': ''},\n  {'entity_name': ' Montague',\n   'entity_type': '',\n   'description': '',\n   'source_id': ''},\n  {'entity_name': 'Gregory',\n   'entity_type': '',\n   'description': '',\n   'source_id': ''},\n  {'entity_name': ' Sampson',\n   'entity_type': '',\n   'description': '',\n   'source_id': ''},\n  {'entity_name': ' Montagues',\n   'entity_type': '',\n   'description': '',\n   'source_id': ''},\n  {'entity_name': ' Abram',\n   'entity_type': '',\n   'description': '',\n   'source_id': ''},\n  {'entity_name': ' Balthasar',\n   'entity_type': '',\n   'description': '',\n   'source_id': ''},\n  {'entity_name': 'Gregory',\n   'entity_type': '',\n   'description': '',\n   'source_id': ''},\n  {'entity_name': ' Sampson',\n   'entity_type': '',\n   'description': '',\n   'source_id': ''},\n  {'entity_name': ' Abram',\n   'entity_type': '',\n   'description': '',\n   'source_id': ''},\n  {'entity_name': ' Benvolio',\n   'entity_type': '',\n   'description': '',\n   'source_id': ''},\n  {'entity_name': ' Tybalt',\n   'entity_type': '',\n   'description': '',\n   'source_id': ''},\n  {'entity_name': 'Tybalt',\n   'entity_type': '',\n   'description': '',\n   'source_id': ''},\n  {'entity_name': ' Benvolio',\n   'entity_type': '',\n   'description': '',\n   'source_id': ''},\n  {'entity_name': ' Citizens',\n   'entity_type': '',\n   'description': '',\n   'source_id': ''},\n  {'entity_name': ' Capulet',\n   'entity_type': '',\n   'description': '',\n   'source_id': ''},\n  {'entity_name': ' Lady Capulet',\n   'entity_type': '',\n   'description': '',\n   'source_id': ''},\n  {'entity_name': ' Montague',\n   'entity_type': '',\n   'description': '',\n   'source_id': ''},\n  {'entity_name': ' Lady Montague',\n   'entity_type': '',\n   'description': '',\n   'source_id': ''},\n  {'entity_name': ' Prince Escalus',\n   'entity_type': '',\n   'description': '',\n   'source_id': ''},\n  {'entity_name': ' Attendants',\n   'entity_type': '',\n   'description': '',\n   'source_id': ''},\n  {'entity_name': ' Montagues',\n   'entity_type': '',\n   'description': '',\n   'source_id': ''},\n  {'entity_name': ' Capulets',\n   'entity_type': '',\n   'description': '',\n   'source_id': ''},\n  {'entity_name': 'PRINCE',\n   'entity_type': '',\n   'description': '',\n   'source_id': ''},\n  {'entity_name': ' Capulet',\n   'entity_type': '',\n   'description': '',\n   'source_id': ''},\n  {'entity_name': ' Montague',\n   'entity_type': '',\n   'description': '',\n   'source_id': ''},\n  {'entity_name': ' Verona',\n   'entity_type': '',\n   'description': '',\n   'source_id': ''},\n  {'entity_name': ' Free-town',\n   'entity_type': '',\n   'description': '',\n   'source_id': ''},\n  {'entity_name': 'MONTAGUE',\n   'entity_type': '',\n   'description': '',\n   'source_id': ''},\n  {'entity_name': ' BENVOLIO',\n   'entity_type': '',\n   'description': '',\n   'source_id': ''},\n  {'entity_name': ' Tybalt',\n   'entity_type': '',\n   'description': '',\n   'source_id': ''},\n  {'entity_name': ' Prince',\n   'entity_type': '',\n   'description': '',\n   'source_id': ''},\n  {'entity_name': ' Capulet',\n   'entity_type': '',\n   'description': '',\n   'source_id': ''},\n  {'entity_name': ' Lady Capulet',\n   'entity_type': '',\n   'description': '',\n   'source_id': ''},\n  {'entity_name': ' Romeo',\n   'entity_type': '',\n   'description': '',\n   'source_id': ''},\n  {'entity_name': ' Lady Montague',\n   'entity_type': '',\n   'description': '',\n   'source_id': ''}],\n 'relationships': [{'src_id': 'Romeo and Juliet',\n   'tgt_id': 'William Shakespeare',\n   'description': 'is written by',\n   'keywords': '',\n   'weight': 1.0,\n   'source_id': ''},\n  {'src_id': 'Project Gutenberg',\n   'tgt_id': 'Romeo and Juliet',\n   'description': 'hosts',\n   'keywords': '',\n   'weight': 1.0,\n   'source_id': ''},\n  {'src_id': 'Project Gutenberg License',\n   'tgt_id': 'Romeo and Juliet',\n   'description': 'applies to',\n   'keywords': '',\n   'weight': 1.0,\n   'source_id': ''},\n  {'src_id': 'PG Shakespeare Team',\n   'tgt_id': 'Romeo and Juliet',\n   'description': 'contributed to',\n   'keywords': '',\n   'weight': 1.0,\n   'source_id': ''},\n  {'src_id': 'Romeo and Juliet',\n   'tgt_id': 'English',\n   'description': 'is available in',\n   'keywords': '',\n   'weight': 1.0,\n   'source_id': ''},\n  {'src_id': 'Romeo and Juliet',\n   'tgt_id': 'www.gutenberg.org',\n   'description': 'is accessible at',\n   'keywords': '',\n   'weight': 1.0,\n   'source_id': ''},\n  {'src_id': 'Romeo and Juliet',\n   'tgt_id': 'William Shakespeare',\n   'description': 'written by',\n   'keywords': '',\n   'weight': 1.0,\n   'source_id': ''},\n  {'src_id': 'Capulet',\n   'tgt_id': 'Verona',\n   'description': 'has house in',\n   'keywords': '',\n   'weight': 1.0,\n   'source_id': ''},\n  {'src_id': 'Friar Lawrence',\n   'tgt_id': 'Verona',\n   'description': 'lives in',\n   'keywords': '',\n   'weight': 1.0,\n   'source_id': ''},\n  {'src_id': 'Romeo',\n   'tgt_id': 'Juliet',\n   'description': 'loves',\n   'keywords': '',\n   'weight': 1.0,\n   'source_id': ''},\n  {'src_id': 'Juliet',\n   'tgt_id': 'Capulet’s House',\n   'description': 'lives in',\n   'keywords': '',\n   'weight': 1.0,\n   'source_id': ''},\n  {'src_id': 'Mantua',\n   'tgt_id': 'Romeo lives in exile',\n   'description': 'city where',\n   'keywords': '',\n   'weight': 1.0,\n   'source_id': ''},\n  {'src_id': 'Romeo',\n   'tgt_id': 'Montague',\n   'description': 'son of',\n   'keywords': '',\n   'weight': 1.0,\n   'source_id': ''},\n  {'src_id': 'Juliet',\n   'tgt_id': 'Capulet',\n   'description': 'daughter of',\n   'keywords': '',\n   'weight': 1.0,\n   'source_id': ''},\n  {'src_id': 'Montague',\n   'tgt_id': 'Capulets',\n   'description': 'at feud with',\n   'keywords': '',\n   'weight': 1.0,\n   'source_id': ''},\n  {'src_id': 'Escalus',\n   'tgt_id': 'Verona',\n   'description': 'Prince of',\n   'keywords': '',\n   'weight': 1.0,\n   'source_id': ''},\n  {'src_id': 'Mercutio',\n   'tgt_id': 'Escalus',\n   'description': 'kinsman to',\n   'keywords': '',\n   'weight': 1.0,\n   'source_id': ''},\n  {'src_id': 'Paris',\n   'tgt_id': 'Escalus',\n   'description': 'kinsman to',\n   'keywords': '',\n   'weight': 1.0,\n   'source_id': ''},\n  {'src_id': 'Benvolio',\n   'tgt_id': 'Montague',\n   'description': 'nephew to',\n   'keywords': '',\n   'weight': 1.0,\n   'source_id': ''},\n  {'src_id': 'Tybalt',\n   'tgt_id': 'Lady Capulet',\n   'description': 'nephew to',\n   'keywords': '',\n   'weight': 1.0,\n   'source_id': ''},\n  {'src_id': 'Friar Lawrence',\n   'tgt_id': 'Verona',\n   'description': 'a Franciscan of',\n   'keywords': '',\n   'weight': 1.0,\n   'source_id': ''},\n  {'src_id': 'Chorus',\n   'tgt_id': 'Verona',\n   'description': 'introduces',\n   'keywords': '',\n   'weight': 1.0,\n   'source_id': ''},\n  {'src_id': 'Sampson',\n   'tgt_id': 'Verona',\n   'description': 'is in',\n   'keywords': '',\n   'weight': 1.0,\n   'source_id': ''},\n  {'src_id': 'Gregory',\n   'tgt_id': 'Sampson',\n   'description': 'is with',\n   'keywords': '',\n   'weight': 1.0,\n   'source_id': ''},\n  {'src_id': 'Verona',\n   'tgt_id': 'the play',\n   'description': 'is the setting for',\n   'keywords': '',\n   'weight': 1.0,\n   'source_id': ''},\n  {'src_id': 'Mantua',\n   'tgt_id': 'the play',\n   'description': 'is a location in',\n   'keywords': '',\n   'weight': 1.0,\n   'source_id': ''},\n  {'src_id': 'Sampson',\n   'tgt_id': 'House of Capulet',\n   'description': 'is a servant of',\n   'keywords': '',\n   'weight': 1.0,\n   'source_id': ''},\n  {'src_id': 'Gregory',\n   'tgt_id': 'House of Capulet',\n   'description': 'is a servant of',\n   'keywords': '',\n   'weight': 1.0,\n   'source_id': ''},\n  {'src_id': 'Sampson',\n   'tgt_id': 'House of Montague',\n   'description': 'has a feud with',\n   'keywords': '',\n   'weight': 1.0,\n   'source_id': ''},\n  {'src_id': 'Gregory',\n   'tgt_id': 'House of Montague',\n   'description': 'has a feud with',\n   'keywords': '',\n   'weight': 1.0,\n   'source_id': ''},\n  {'src_id': 'House of Capulet',\n   'tgt_id': 'House of Montague',\n   'description': 'is in conflict with',\n   'keywords': '',\n   'weight': 1.0,\n   'source_id': ''},\n  {'src_id': 'Sampson',\n   'tgt_id': 'Capulets',\n   'description': 'is a servant of',\n   'keywords': '',\n   'weight': 1.0,\n   'source_id': ''},\n  {'src_id': 'Gregory',\n   'tgt_id': 'Capulets',\n   'description': 'is a servant of',\n   'keywords': '',\n   'weight': 1.0,\n   'source_id': ''},\n  {'src_id': 'Abram',\n   'tgt_id': 'Montagues',\n   'description': 'is a servant of',\n   'keywords': '',\n   'weight': 1.0,\n   'source_id': ''},\n  {'src_id': 'Balthasar',\n   'tgt_id': 'Montagues',\n   'description': 'is a servant of',\n   'keywords': '',\n   'weight': 1.0,\n   'source_id': ''},\n  {'src_id': 'Sampson',\n   'tgt_id': 'servants of Montagues',\n   'description': 'will fight',\n   'keywords': '',\n   'weight': 1.0,\n   'source_id': ''},\n  {'src_id': 'Gregory',\n   'tgt_id': 'Sampson',\n   'description': 'will support',\n   'keywords': '',\n   'weight': 1.0,\n   'source_id': ''},\n  {'src_id': 'Sampson',\n   'tgt_id': 'a man as good as Abram',\n   'description': 'serves',\n   'keywords': '',\n   'weight': 1.0,\n   'source_id': ''},\n  {'src_id': 'Benvolio',\n   'tgt_id': \"Gregory's master\",\n   'description': 'is kinsman of',\n   'keywords': '',\n   'weight': 1.0,\n   'source_id': ''},\n  {'src_id': 'Sampson',\n   'tgt_id': 'Abram',\n   'description': 'fights',\n   'keywords': '',\n   'weight': 1.0,\n   'source_id': ''},\n  {'src_id': 'Benvolio',\n   'tgt_id': 'the fight between Sampson and Abram',\n   'description': 'interrupts',\n   'keywords': '',\n   'weight': 1.0,\n   'source_id': ''},\n  {'src_id': 'Tybalt',\n   'tgt_id': 'the scene where the fight occurs',\n   'description': 'enters',\n   'keywords': '',\n   'weight': 1.0,\n   'source_id': ''},\n  {'src_id': 'Tybalt',\n   'tgt_id': 'Benvolio',\n   'description': 'fights',\n   'keywords': '',\n   'weight': 1.0,\n   'source_id': ''},\n  {'src_id': 'Benvolio',\n   'tgt_id': 'among the Citizens',\n   'description': 'keeps the peace',\n   'keywords': '',\n   'weight': 1.0,\n   'source_id': ''},\n  {'src_id': 'Capulet',\n   'tgt_id': 'Montague',\n   'description': 'is the enemy of',\n   'keywords': '',\n   'weight': 1.0,\n   'source_id': ''},\n  {'src_id': 'Montague',\n   'tgt_id': 'Capulet',\n   'description': 'is the enemy of',\n   'keywords': '',\n   'weight': 1.0,\n   'source_id': ''},\n  {'src_id': 'Prince Escalus',\n   'tgt_id': 'Capulets and Montagues',\n   'description': 'intervenes in the fight between',\n   'keywords': '',\n   'weight': 1.0,\n   'source_id': ''},\n  {'src_id': 'Tybalt',\n   'tgt_id': 'Capulets',\n   'description': 'is a member of the',\n   'keywords': '',\n   'weight': 1.0,\n   'source_id': ''},\n  {'src_id': 'Benvolio',\n   'tgt_id': 'Montagues',\n   'description': 'is a member of the',\n   'keywords': '',\n   'weight': 1.0,\n   'source_id': ''},\n  {'src_id': 'Prince',\n   'tgt_id': 'Verona',\n   'description': 'governs',\n   'keywords': '',\n   'weight': 1.0,\n   'source_id': ''},\n  {'src_id': 'Capulet',\n   'tgt_id': 'Montague',\n   'description': 'has conflict with',\n   'keywords': '',\n   'weight': 1.0,\n   'source_id': ''},\n  {'src_id': 'Montague',\n   'tgt_id': 'Capulet',\n   'description': 'has conflict with',\n   'keywords': '',\n   'weight': 1.0,\n   'source_id': ''},\n  {'src_id': 'Verona',\n   'tgt_id': 'Free-town',\n   'description': 'contains',\n   'keywords': '',\n   'weight': 1.0,\n   'source_id': ''},\n  {'src_id': 'Prince',\n   'tgt_id': 'Capulet',\n   'description': 'summons',\n   'keywords': '',\n   'weight': 1.0,\n   'source_id': ''},\n  {'src_id': 'Prince',\n   'tgt_id': 'Montague',\n   'description': 'summons',\n   'keywords': '',\n   'weight': 1.0,\n   'source_id': ''},\n  {'src_id': 'Romeo',\n   'tgt_id': 'Montague',\n   'description': 'is the son of',\n   'keywords': '',\n   'weight': 1.0,\n   'source_id': ''},\n  {'src_id': 'Tybalt',\n   'tgt_id': 'Capulet',\n   'description': 'is the nephew of',\n   'keywords': '',\n   'weight': 1.0,\n   'source_id': ''},\n  {'src_id': 'Benvolio',\n   'tgt_id': 'Montague',\n   'description': 'is the nephew of',\n   'keywords': '',\n   'weight': 1.0,\n   'source_id': ''},\n  {'src_id': 'Lady Montague',\n   'tgt_id': 'Romeo',\n   'description': 'is the mother of',\n   'keywords': '',\n   'weight': 1.0,\n   'source_id': ''},\n  {'src_id': 'Prince',\n   'tgt_id': 'the fight between Montague and Capulet families',\n   'description': 'parted',\n   'keywords': '',\n   'weight': 1.0,\n   'source_id': ''},\n  {'src_id': 'Tybalt',\n   'tgt_id': 'Benvolio',\n   'description': 'fought with',\n   'keywords': '',\n   'weight': 1.0,\n   'source_id': ''},\n  {'src_id': 'Capulet',\n   'tgt_id': 'Montague',\n   'description': 'is the adversary of',\n   'keywords': '',\n   'weight': 1.0,\n   'source_id': ''}],\n 'chunks': [{'content': '\\ufeffThe Project Gutenberg eBook of Romeo and Juliet\\n    \\nThis ebook is for the use of anyone anywhere in the United States and\\nmost other parts of the world at no cost and with almost no restrictions\\nwhatsoever. You may copy it, give it away or re-use it under the terms\\nof the Project Gutenberg License included with this ebook or online\\nat www.gutenberg.org. If you are not located in the United States,\\nyou will have to check the laws of the country where you are located\\nbefore using this eBook.\\n\\nTitle: Romeo and Juliet\\n\\nAuthor: William Shakespeare\\n\\nRelease date: November 1, 1998 [eBook #1513]\\n                Most recently updated: June 27, 2023\\n\\nLanguage: English\\n\\nCredits: the PG Shakespeare Team, a team of about twenty Project Gutenberg volunteers\\n\\n\\n*** START OF THE PROJECT GUTENBERG EBOOK ROMEO AND JULIET ***\\n\\n\\n\\n\\nTHE TRAGEDY OF ROMEO AND JULIET\\n\\nby William Shakespeare\\n\\n\\n\\n\\nContents\\n\\nTHE PROLOGUE.',\n   'source_id': ''},\n  {'content': 'THE TRAGEDY OF ROMEO AND JULIET\\n\\nby William Shakespeare\\n\\n\\n\\n\\nContents\\n\\nTHE PROLOGUE.\\n\\nACT I\\nScene I. A public place.\\nScene II. A Street.\\nScene III. Room in Capulet’s House.\\nScene IV. A Street.\\nScene V. A Hall in Capulet’s House.\\n\\nACT II\\nCHORUS.\\nScene I. An open place adjoining Capulet’s Garden.\\nScene II. Capulet’s Garden.\\nScene III. Friar Lawrence’s Cell.\\nScene IV. A Street.\\nScene V. Capulet’s Garden.\\nScene VI. Friar Lawrence’s Cell.\\n\\nACT III\\nScene I. A public Place.\\nScene II. A Room in Capulet’s House.\\nScene III. Friar Lawrence’s cell.\\nScene IV. A Room in Capulet’s House.\\nScene V. An open Gallery to Juliet’s Chamber, overlooking the Garden.\\n\\nACT IV\\nScene I. Friar Lawrence’s Cell.\\nScene II. Hall in Capulet’s House.\\nScene III. Juliet’s Chamber.\\nScene IV. Hall in Capulet’s House.\\nScene V. Juliet’s Chamber; Juliet on the bed.\\n\\nACT V\\nScene I. Mantua. A Street.\\nScene II. Friar Lawrence’s Cell.\\nScene III. A churchyard; in it a Monument belonging to the Capulets.\\n\\n\\n\\n\\n Dramatis Personæ',\n   'source_id': ''},\n  {'content': 'Dramatis Personæ\\n\\nESCALUS, Prince of Verona.\\nMERCUTIO, kinsman to the Prince, and friend to Romeo.\\nPARIS, a young Nobleman, kinsman to the Prince.\\nPage to Paris.\\n\\nMONTAGUE, head of a Veronese family at feud with the Capulets.\\nLADY MONTAGUE, wife to Montague.\\nROMEO, son to Montague.\\nBENVOLIO, nephew to Montague, and friend to Romeo.\\nABRAM, servant to Montague.\\nBALTHASAR, servant to Romeo.\\n\\nCAPULET, head of a Veronese family at feud with the Montagues.\\nLADY CAPULET, wife to Capulet.\\nJULIET, daughter to Capulet.\\nTYBALT, nephew to Lady Capulet.\\nCAPULET’S COUSIN, an old man.\\nNURSE to Juliet.\\nPETER, servant to Juliet’s Nurse.\\nSAMPSON, servant to Capulet.\\nGREGORY, servant to Capulet.\\nServants.\\n\\nFRIAR LAWRENCE, a Franciscan.\\nFRIAR JOHN, of the same Order.\\nAn Apothecary.\\nCHORUS.\\nThree Musicians.\\nAn Officer.\\nCitizens of Verona; several Men and Women, relations to both houses;\\nMaskers, Guards, Watchmen and Attendants.',\n   'source_id': ''},\n  {'content': 'SCENE. During the greater part of the Play in Verona; once, in the\\nFifth Act, at Mantua.\\n\\n\\n\\n\\nTHE PROLOGUE\\n\\n\\n Enter Chorus.\\n\\nCHORUS.\\nTwo households, both alike in dignity,\\nIn fair Verona, where we lay our scene,\\nFrom ancient grudge break to new mutiny,\\nWhere civil blood makes civil hands unclean.\\nFrom forth the fatal loins of these two foes\\nA pair of star-cross’d lovers take their life;\\nWhose misadventur’d piteous overthrows\\nDoth with their death bury their parents’ strife.\\nThe fearful passage of their death-mark’d love,\\nAnd the continuance of their parents’ rage,\\nWhich, but their children’s end, nought could remove,\\nIs now the two hours’ traffic of our stage;\\nThe which, if you with patient ears attend,\\nWhat here shall miss, our toil shall strive to mend.\\n\\n [_Exit._]\\n\\n\\n\\n\\nACT I\\n\\nSCENE I. A public place.\\n\\n\\n Enter Sampson and Gregory armed with swords and bucklers.\\n\\nSAMPSON.\\nGregory, on my word, we’ll not carry coals.\\n\\nGREGORY.\\nNo, for then we should be colliers.',\n   'source_id': ''},\n  {'content': 'SAMPSON.\\nGregory, on my word, we’ll not carry coals.\\n\\nGREGORY.\\nNo, for then we should be colliers.\\n\\nSAMPSON.\\nI mean, if we be in choler, we’ll draw.\\n\\nGREGORY.\\nAy, while you live, draw your neck out o’ the collar.\\n\\nSAMPSON.\\nI strike quickly, being moved.\\n\\nGREGORY.\\nBut thou art not quickly moved to strike.\\n\\nSAMPSON.\\nA dog of the house of Montague moves me.\\n\\nGREGORY.\\nTo move is to stir; and to be valiant is to stand: therefore, if thou\\nart moved, thou runn’st away.\\n\\nSAMPSON.\\nA dog of that house shall move me to stand.\\nI will take the wall of any man or maid of Montague’s.\\n\\nGREGORY.\\nThat shows thee a weak slave, for the weakest goes to the wall.\\n\\nSAMPSON.\\nTrue, and therefore women, being the weaker vessels, are ever thrust to\\nthe wall: therefore I will push Montague’s men from the wall, and\\nthrust his maids to the wall.\\n\\nGREGORY.\\nThe quarrel is between our masters and us their men.',\n   'source_id': ''},\n  {'content': 'GREGORY.\\nThe quarrel is between our masters and us their men.\\n\\nSAMPSON.\\n’Tis all one, I will show myself a tyrant: when I have fought with the\\nmen I will be civil with the maids, I will cut off their heads.\\n\\nGREGORY.\\nThe heads of the maids?\\n\\nSAMPSON.\\nAy, the heads of the maids, or their maidenheads; take it in what sense\\nthou wilt.\\n\\nGREGORY.\\nThey must take it in sense that feel it.\\n\\nSAMPSON.\\nMe they shall feel while I am able to stand: and ’tis known I am a\\npretty piece of flesh.\\n\\nGREGORY.\\n’Tis well thou art not fish; if thou hadst, thou hadst been poor John.\\nDraw thy tool; here comes of the house of Montagues.\\n\\n Enter Abram and Balthasar.\\n\\nSAMPSON.\\nMy naked weapon is out: quarrel, I will back thee.\\n\\nGREGORY.\\nHow? Turn thy back and run?\\n\\nSAMPSON.\\nFear me not.\\n\\nGREGORY.\\nNo, marry; I fear thee!\\n\\nSAMPSON.\\nLet us take the law of our sides; let them begin.\\n\\nGREGORY.\\nI will frown as I pass by, and let them take it as they list.',\n   'source_id': ''},\n  {'content': 'GREGORY.\\nI will frown as I pass by, and let them take it as they list.\\n\\nSAMPSON.\\nNay, as they dare. I will bite my thumb at them, which is disgrace to\\nthem if they bear it.\\n\\nABRAM.\\nDo you bite your thumb at us, sir?\\n\\nSAMPSON.\\nI do bite my thumb, sir.\\n\\nABRAM.\\nDo you bite your thumb at us, sir?\\n\\nSAMPSON.\\nIs the law of our side if I say ay?\\n\\nGREGORY.\\nNo.\\n\\nSAMPSON.\\nNo sir, I do not bite my thumb at you, sir; but I bite my thumb, sir.\\n\\nGREGORY.\\nDo you quarrel, sir?\\n\\nABRAM.\\nQuarrel, sir? No, sir.\\n\\nSAMPSON.\\nBut if you do, sir, I am for you. I serve as good a man as you.\\n\\nABRAM.\\nNo better.\\n\\nSAMPSON.\\nWell, sir.\\n\\n Enter Benvolio.\\n\\nGREGORY.\\nSay better; here comes one of my master’s kinsmen.\\n\\nSAMPSON.\\nYes, better, sir.\\n\\nABRAM.\\nYou lie.\\n\\nSAMPSON.\\nDraw, if you be men. Gregory, remember thy washing blow.\\n\\n [_They fight._]\\n\\nBENVOLIO.\\nPart, fools! put up your swords, you know not what you do.\\n\\n [_Beats down their swords._]\\n\\n Enter Tybalt.',\n   'source_id': ''},\n  {'content': '[_Beats down their swords._]\\n\\n Enter Tybalt.\\n\\nTYBALT.\\nWhat, art thou drawn among these heartless hinds?\\nTurn thee Benvolio, look upon thy death.\\n\\nBENVOLIO.\\nI do but keep the peace, put up thy sword,\\nOr manage it to part these men with me.\\n\\nTYBALT.\\nWhat, drawn, and talk of peace? I hate the word\\nAs I hate hell, all Montagues, and thee:\\nHave at thee, coward.\\n\\n [_They fight._]\\n\\n Enter three or four Citizens with clubs.\\n\\nFIRST CITIZEN.\\nClubs, bills and partisans! Strike! Beat them down!\\nDown with the Capulets! Down with the Montagues!\\n\\n Enter Capulet in his gown, and Lady Capulet.\\n\\nCAPULET.\\nWhat noise is this? Give me my long sword, ho!\\n\\nLADY CAPULET.\\nA crutch, a crutch! Why call you for a sword?\\n\\nCAPULET.\\nMy sword, I say! Old Montague is come,\\nAnd flourishes his blade in spite of me.\\n\\n Enter Montague and his Lady Montague.\\n\\nMONTAGUE.\\nThou villain Capulet! Hold me not, let me go.\\n\\nLADY MONTAGUE.\\nThou shalt not stir one foot to seek a foe.\\n\\n Enter Prince Escalus, with Attendants.',\n   'source_id': ''},\n  {'content': 'PRINCE.\\nRebellious subjects, enemies to peace,\\nProfaners of this neighbour-stained steel,—\\nWill they not hear? What, ho! You men, you beasts,\\nThat quench the fire of your pernicious rage\\nWith purple fountains issuing from your veins,\\nOn pain of torture, from those bloody hands\\nThrow your mistemper’d weapons to the ground\\nAnd hear the sentence of your moved prince.\\nThree civil brawls, bred of an airy word,\\nBy thee, old Capulet, and Montague,\\nHave thrice disturb’d the quiet of our streets,\\nAnd made Verona’s ancient citizens\\nCast by their grave beseeming ornaments,\\nTo wield old partisans, in hands as old,\\nCanker’d with peace, to part your canker’d hate.\\nIf ever you disturb our streets again,\\nYour lives shall pay the forfeit of the peace.\\nFor this time all the rest depart away:\\nYou, Capulet, shall go along with me,\\nAnd Montague, come you this afternoon,\\nTo know our farther pleasure in this case,\\nTo old Free-town, our common judgement-place.\\nOnce more, on pain of death, all men depart.',\n   'source_id': ''},\n  {'content': '[_Exeunt Prince and Attendants; Capulet, Lady Capulet, Tybalt,\\n Citizens and Servants._]\\n\\nMONTAGUE.\\nWho set this ancient quarrel new abroach?\\nSpeak, nephew, were you by when it began?\\n\\nBENVOLIO.\\nHere were the servants of your adversary\\nAnd yours, close fighting ere I did approach.\\nI drew to part them, in the instant came\\nThe fiery Tybalt, with his sword prepar’d,\\nWhich, as he breath’d defiance to my ears,\\nHe swung about his head, and cut the winds,\\nWho nothing hurt withal, hiss’d him in scorn.\\nWhile we were interchanging thrusts and blows\\nCame more and more, and fought on part and part,\\nTill the Prince came, who parted either part.\\n\\nLADY MONTAGUE.\\nO where is Romeo, saw you him today?\\nRight glad I am he was not at this fray.',\n   'source_id': ''}]}"
     },
     "execution_count": 23,
     "metadata": {},
     "output_type": "execute_result"
    }
   ],
   "source": [
    "custom_kg = {\"entities\":formated_entities,\n",
    "             \"relationships\":formated_relationship,\n",
    "             \"chunks\":formated_chunks}\n",
    "custom_kg"
   ],
   "metadata": {
    "collapsed": false,
    "ExecuteTime": {
     "end_time": "2025-01-03T15:21:32.090486200Z",
     "start_time": "2025-01-03T15:21:32.058925300Z"
    }
   },
   "id": "32f8769fe6b9fac"
  },
  {
   "cell_type": "code",
   "execution_count": 24,
   "outputs": [],
   "source": [
    "from lightrag.llm import ollama_embedding\n",
    "from lightrag.utils import EmbeddingFunc \n",
    "from inserter import insert_custom_kg_safely,initialize_lightrag"
   ],
   "metadata": {
    "collapsed": false,
    "ExecuteTime": {
     "end_time": "2024-12-28T12:02:22.606783300Z",
     "start_time": "2024-12-28T12:02:22.535447500Z"
    }
   },
   "id": "36d6411942bbe4bd"
  },
  {
   "cell_type": "code",
   "execution_count": 25,
   "outputs": [
    {
     "name": "stderr",
     "output_type": "stream",
     "text": [
      "INFO:lightrag:Logger initialized for working directory: ./test\n",
      "INFO:lightrag:Load KV llm_response_cache with 0 data\n",
      "INFO:lightrag:Load KV full_docs with 0 data\n",
      "INFO:lightrag:Load KV text_chunks with 10 data\n",
      "INFO:lightrag:Loaded graph from ./test\\graph_chunk_entity_relation.graphml with 99 nodes, 58 edges\n",
      "INFO:nano-vectordb:Load (48, 768) data\n",
      "INFO:nano-vectordb:Init {'embedding_dim': 768, 'metric': 'cosine', 'storage_file': './test\\\\vdb_entities.json'} 48 data\n",
      "INFO:nano-vectordb:Load (60, 768) data\n",
      "INFO:nano-vectordb:Init {'embedding_dim': 768, 'metric': 'cosine', 'storage_file': './test\\\\vdb_relationships.json'} 60 data\n",
      "INFO:nano-vectordb:Load (10, 768) data\n",
      "INFO:nano-vectordb:Init {'embedding_dim': 768, 'metric': 'cosine', 'storage_file': './test\\\\vdb_chunks.json'} 10 data\n"
     ]
    }
   ],
   "source": [
    "# Initialize RAG\n",
    "rag = initialize_lightrag()"
   ],
   "metadata": {
    "collapsed": false,
    "ExecuteTime": {
     "end_time": "2024-12-28T12:02:26.523110900Z",
     "start_time": "2024-12-28T12:02:26.232689900Z"
    }
   },
   "id": "35df7a72400a6e92"
  },
  {
   "cell_type": "code",
   "execution_count": 26,
   "outputs": [
    {
     "name": "stderr",
     "output_type": "stream",
     "text": [
      "INFO:lightrag:Inserting 10 vectors to chunks\n",
      "Generating embeddings:   0%|          | 0/1 [00:00<?, ?batch/s]INFO:httpx:HTTP Request: POST http://127.0.0.1:11434/api/embeddings \"HTTP/1.1 200 OK\"\n",
      "INFO:httpx:HTTP Request: POST http://127.0.0.1:11434/api/embeddings \"HTTP/1.1 200 OK\"\n",
      "INFO:httpx:HTTP Request: POST http://127.0.0.1:11434/api/embeddings \"HTTP/1.1 200 OK\"\n",
      "INFO:httpx:HTTP Request: POST http://127.0.0.1:11434/api/embeddings \"HTTP/1.1 200 OK\"\n",
      "INFO:httpx:HTTP Request: POST http://127.0.0.1:11434/api/embeddings \"HTTP/1.1 200 OK\"\n",
      "INFO:httpx:HTTP Request: POST http://127.0.0.1:11434/api/embeddings \"HTTP/1.1 200 OK\"\n",
      "INFO:httpx:HTTP Request: POST http://127.0.0.1:11434/api/embeddings \"HTTP/1.1 200 OK\"\n",
      "INFO:httpx:HTTP Request: POST http://127.0.0.1:11434/api/embeddings \"HTTP/1.1 200 OK\"\n",
      "INFO:httpx:HTTP Request: POST http://127.0.0.1:11434/api/embeddings \"HTTP/1.1 200 OK\"\n",
      "INFO:httpx:HTTP Request: POST http://127.0.0.1:11434/api/embeddings \"HTTP/1.1 200 OK\"\n",
      "Generating embeddings: 100%|██████████| 1/1 [01:54<00:00, 114.91s/batch]\n",
      "INFO:lightrag:Inserting 49 vectors to entities\n",
      "Generating embeddings:   0%|          | 0/2 [00:00<?, ?batch/s]INFO:httpx:HTTP Request: POST http://127.0.0.1:11434/api/embeddings \"HTTP/1.1 200 OK\"\n",
      "INFO:httpx:HTTP Request: POST http://127.0.0.1:11434/api/embeddings \"HTTP/1.1 200 OK\"\n",
      "INFO:httpx:HTTP Request: POST http://127.0.0.1:11434/api/embeddings \"HTTP/1.1 200 OK\"\n",
      "INFO:httpx:HTTP Request: POST http://127.0.0.1:11434/api/embeddings \"HTTP/1.1 200 OK\"\n",
      "INFO:httpx:HTTP Request: POST http://127.0.0.1:11434/api/embeddings \"HTTP/1.1 200 OK\"\n",
      "INFO:httpx:HTTP Request: POST http://127.0.0.1:11434/api/embeddings \"HTTP/1.1 200 OK\"\n",
      "INFO:httpx:HTTP Request: POST http://127.0.0.1:11434/api/embeddings \"HTTP/1.1 200 OK\"\n",
      "INFO:httpx:HTTP Request: POST http://127.0.0.1:11434/api/embeddings \"HTTP/1.1 200 OK\"\n",
      "INFO:httpx:HTTP Request: POST http://127.0.0.1:11434/api/embeddings \"HTTP/1.1 200 OK\"\n",
      "INFO:httpx:HTTP Request: POST http://127.0.0.1:11434/api/embeddings \"HTTP/1.1 200 OK\"\n",
      "INFO:httpx:HTTP Request: POST http://127.0.0.1:11434/api/embeddings \"HTTP/1.1 200 OK\"\n",
      "INFO:httpx:HTTP Request: POST http://127.0.0.1:11434/api/embeddings \"HTTP/1.1 200 OK\"\n",
      "INFO:httpx:HTTP Request: POST http://127.0.0.1:11434/api/embeddings \"HTTP/1.1 200 OK\"\n",
      "INFO:httpx:HTTP Request: POST http://127.0.0.1:11434/api/embeddings \"HTTP/1.1 200 OK\"\n",
      "INFO:httpx:HTTP Request: POST http://127.0.0.1:11434/api/embeddings \"HTTP/1.1 200 OK\"\n",
      "INFO:httpx:HTTP Request: POST http://127.0.0.1:11434/api/embeddings \"HTTP/1.1 200 OK\"\n",
      "INFO:httpx:HTTP Request: POST http://127.0.0.1:11434/api/embeddings \"HTTP/1.1 200 OK\"\n",
      "INFO:httpx:HTTP Request: POST http://127.0.0.1:11434/api/embeddings \"HTTP/1.1 200 OK\"\n",
      "INFO:httpx:HTTP Request: POST http://127.0.0.1:11434/api/embeddings \"HTTP/1.1 200 OK\"\n",
      "INFO:httpx:HTTP Request: POST http://127.0.0.1:11434/api/embeddings \"HTTP/1.1 200 OK\"\n",
      "INFO:httpx:HTTP Request: POST http://127.0.0.1:11434/api/embeddings \"HTTP/1.1 200 OK\"\n",
      "INFO:httpx:HTTP Request: POST http://127.0.0.1:11434/api/embeddings \"HTTP/1.1 200 OK\"\n",
      "INFO:httpx:HTTP Request: POST http://127.0.0.1:11434/api/embeddings \"HTTP/1.1 200 OK\"\n",
      "INFO:httpx:HTTP Request: POST http://127.0.0.1:11434/api/embeddings \"HTTP/1.1 200 OK\"\n",
      "INFO:httpx:HTTP Request: POST http://127.0.0.1:11434/api/embeddings \"HTTP/1.1 200 OK\"\n",
      "INFO:httpx:HTTP Request: POST http://127.0.0.1:11434/api/embeddings \"HTTP/1.1 200 OK\"\n",
      "INFO:httpx:HTTP Request: POST http://127.0.0.1:11434/api/embeddings \"HTTP/1.1 200 OK\"\n",
      "INFO:httpx:HTTP Request: POST http://127.0.0.1:11434/api/embeddings \"HTTP/1.1 200 OK\"\n",
      "INFO:httpx:HTTP Request: POST http://127.0.0.1:11434/api/embeddings \"HTTP/1.1 200 OK\"\n",
      "INFO:httpx:HTTP Request: POST http://127.0.0.1:11434/api/embeddings \"HTTP/1.1 200 OK\"\n",
      "INFO:httpx:HTTP Request: POST http://127.0.0.1:11434/api/embeddings \"HTTP/1.1 200 OK\"\n",
      "INFO:httpx:HTTP Request: POST http://127.0.0.1:11434/api/embeddings \"HTTP/1.1 200 OK\"\n",
      "Generating embeddings:  50%|█████     | 1/2 [00:08<00:08,  8.79s/batch]INFO:httpx:HTTP Request: POST http://127.0.0.1:11434/api/embeddings \"HTTP/1.1 200 OK\"\n",
      "INFO:httpx:HTTP Request: POST http://127.0.0.1:11434/api/embeddings \"HTTP/1.1 200 OK\"\n",
      "INFO:httpx:HTTP Request: POST http://127.0.0.1:11434/api/embeddings \"HTTP/1.1 200 OK\"\n",
      "INFO:httpx:HTTP Request: POST http://127.0.0.1:11434/api/embeddings \"HTTP/1.1 200 OK\"\n",
      "INFO:httpx:HTTP Request: POST http://127.0.0.1:11434/api/embeddings \"HTTP/1.1 200 OK\"\n",
      "INFO:httpx:HTTP Request: POST http://127.0.0.1:11434/api/embeddings \"HTTP/1.1 200 OK\"\n",
      "INFO:httpx:HTTP Request: POST http://127.0.0.1:11434/api/embeddings \"HTTP/1.1 200 OK\"\n",
      "INFO:httpx:HTTP Request: POST http://127.0.0.1:11434/api/embeddings \"HTTP/1.1 200 OK\"\n",
      "INFO:httpx:HTTP Request: POST http://127.0.0.1:11434/api/embeddings \"HTTP/1.1 200 OK\"\n",
      "INFO:httpx:HTTP Request: POST http://127.0.0.1:11434/api/embeddings \"HTTP/1.1 200 OK\"\n",
      "INFO:httpx:HTTP Request: POST http://127.0.0.1:11434/api/embeddings \"HTTP/1.1 200 OK\"\n",
      "INFO:httpx:HTTP Request: POST http://127.0.0.1:11434/api/embeddings \"HTTP/1.1 200 OK\"\n",
      "INFO:httpx:HTTP Request: POST http://127.0.0.1:11434/api/embeddings \"HTTP/1.1 200 OK\"\n",
      "INFO:httpx:HTTP Request: POST http://127.0.0.1:11434/api/embeddings \"HTTP/1.1 200 OK\"\n",
      "INFO:httpx:HTTP Request: POST http://127.0.0.1:11434/api/embeddings \"HTTP/1.1 200 OK\"\n",
      "INFO:httpx:HTTP Request: POST http://127.0.0.1:11434/api/embeddings \"HTTP/1.1 200 OK\"\n",
      "INFO:httpx:HTTP Request: POST http://127.0.0.1:11434/api/embeddings \"HTTP/1.1 200 OK\"\n",
      "Generating embeddings: 100%|██████████| 2/2 [00:12<00:00,  6.03s/batch]\n",
      "INFO:lightrag:Inserting 56 vectors to relationships\n",
      "Generating embeddings:   0%|          | 0/2 [00:00<?, ?batch/s]INFO:httpx:HTTP Request: POST http://127.0.0.1:11434/api/embeddings \"HTTP/1.1 200 OK\"\n",
      "INFO:httpx:HTTP Request: POST http://127.0.0.1:11434/api/embeddings \"HTTP/1.1 200 OK\"\n",
      "INFO:httpx:HTTP Request: POST http://127.0.0.1:11434/api/embeddings \"HTTP/1.1 200 OK\"\n",
      "INFO:httpx:HTTP Request: POST http://127.0.0.1:11434/api/embeddings \"HTTP/1.1 200 OK\"\n",
      "INFO:httpx:HTTP Request: POST http://127.0.0.1:11434/api/embeddings \"HTTP/1.1 200 OK\"\n",
      "INFO:httpx:HTTP Request: POST http://127.0.0.1:11434/api/embeddings \"HTTP/1.1 200 OK\"\n",
      "INFO:httpx:HTTP Request: POST http://127.0.0.1:11434/api/embeddings \"HTTP/1.1 200 OK\"\n",
      "INFO:httpx:HTTP Request: POST http://127.0.0.1:11434/api/embeddings \"HTTP/1.1 200 OK\"\n",
      "INFO:httpx:HTTP Request: POST http://127.0.0.1:11434/api/embeddings \"HTTP/1.1 200 OK\"\n",
      "INFO:httpx:HTTP Request: POST http://127.0.0.1:11434/api/embeddings \"HTTP/1.1 200 OK\"\n",
      "INFO:httpx:HTTP Request: POST http://127.0.0.1:11434/api/embeddings \"HTTP/1.1 200 OK\"\n",
      "INFO:httpx:HTTP Request: POST http://127.0.0.1:11434/api/embeddings \"HTTP/1.1 200 OK\"\n",
      "INFO:httpx:HTTP Request: POST http://127.0.0.1:11434/api/embeddings \"HTTP/1.1 200 OK\"\n",
      "INFO:httpx:HTTP Request: POST http://127.0.0.1:11434/api/embeddings \"HTTP/1.1 200 OK\"\n",
      "INFO:httpx:HTTP Request: POST http://127.0.0.1:11434/api/embeddings \"HTTP/1.1 200 OK\"\n",
      "INFO:httpx:HTTP Request: POST http://127.0.0.1:11434/api/embeddings \"HTTP/1.1 200 OK\"\n",
      "INFO:httpx:HTTP Request: POST http://127.0.0.1:11434/api/embeddings \"HTTP/1.1 200 OK\"\n",
      "INFO:httpx:HTTP Request: POST http://127.0.0.1:11434/api/embeddings \"HTTP/1.1 200 OK\"\n",
      "INFO:httpx:HTTP Request: POST http://127.0.0.1:11434/api/embeddings \"HTTP/1.1 200 OK\"\n",
      "INFO:httpx:HTTP Request: POST http://127.0.0.1:11434/api/embeddings \"HTTP/1.1 200 OK\"\n",
      "INFO:httpx:HTTP Request: POST http://127.0.0.1:11434/api/embeddings \"HTTP/1.1 200 OK\"\n",
      "INFO:httpx:HTTP Request: POST http://127.0.0.1:11434/api/embeddings \"HTTP/1.1 200 OK\"\n",
      "INFO:httpx:HTTP Request: POST http://127.0.0.1:11434/api/embeddings \"HTTP/1.1 200 OK\"\n",
      "INFO:httpx:HTTP Request: POST http://127.0.0.1:11434/api/embeddings \"HTTP/1.1 200 OK\"\n",
      "INFO:httpx:HTTP Request: POST http://127.0.0.1:11434/api/embeddings \"HTTP/1.1 200 OK\"\n",
      "INFO:httpx:HTTP Request: POST http://127.0.0.1:11434/api/embeddings \"HTTP/1.1 200 OK\"\n",
      "INFO:httpx:HTTP Request: POST http://127.0.0.1:11434/api/embeddings \"HTTP/1.1 200 OK\"\n",
      "INFO:httpx:HTTP Request: POST http://127.0.0.1:11434/api/embeddings \"HTTP/1.1 200 OK\"\n",
      "INFO:httpx:HTTP Request: POST http://127.0.0.1:11434/api/embeddings \"HTTP/1.1 200 OK\"\n",
      "INFO:httpx:HTTP Request: POST http://127.0.0.1:11434/api/embeddings \"HTTP/1.1 200 OK\"\n",
      "INFO:httpx:HTTP Request: POST http://127.0.0.1:11434/api/embeddings \"HTTP/1.1 200 OK\"\n",
      "INFO:httpx:HTTP Request: POST http://127.0.0.1:11434/api/embeddings \"HTTP/1.1 200 OK\"\n",
      "Generating embeddings:  50%|█████     | 1/2 [00:29<00:29, 29.76s/batch]INFO:httpx:HTTP Request: POST http://127.0.0.1:11434/api/embeddings \"HTTP/1.1 200 OK\"\n",
      "INFO:httpx:HTTP Request: POST http://127.0.0.1:11434/api/embeddings \"HTTP/1.1 200 OK\"\n",
      "INFO:httpx:HTTP Request: POST http://127.0.0.1:11434/api/embeddings \"HTTP/1.1 200 OK\"\n",
      "INFO:httpx:HTTP Request: POST http://127.0.0.1:11434/api/embeddings \"HTTP/1.1 200 OK\"\n",
      "INFO:httpx:HTTP Request: POST http://127.0.0.1:11434/api/embeddings \"HTTP/1.1 200 OK\"\n",
      "INFO:httpx:HTTP Request: POST http://127.0.0.1:11434/api/embeddings \"HTTP/1.1 200 OK\"\n",
      "INFO:httpx:HTTP Request: POST http://127.0.0.1:11434/api/embeddings \"HTTP/1.1 200 OK\"\n",
      "INFO:httpx:HTTP Request: POST http://127.0.0.1:11434/api/embeddings \"HTTP/1.1 200 OK\"\n",
      "INFO:httpx:HTTP Request: POST http://127.0.0.1:11434/api/embeddings \"HTTP/1.1 200 OK\"\n",
      "INFO:httpx:HTTP Request: POST http://127.0.0.1:11434/api/embeddings \"HTTP/1.1 200 OK\"\n",
      "INFO:httpx:HTTP Request: POST http://127.0.0.1:11434/api/embeddings \"HTTP/1.1 200 OK\"\n",
      "INFO:httpx:HTTP Request: POST http://127.0.0.1:11434/api/embeddings \"HTTP/1.1 200 OK\"\n",
      "INFO:httpx:HTTP Request: POST http://127.0.0.1:11434/api/embeddings \"HTTP/1.1 200 OK\"\n",
      "INFO:httpx:HTTP Request: POST http://127.0.0.1:11434/api/embeddings \"HTTP/1.1 200 OK\"\n",
      "INFO:httpx:HTTP Request: POST http://127.0.0.1:11434/api/embeddings \"HTTP/1.1 200 OK\"\n",
      "INFO:httpx:HTTP Request: POST http://127.0.0.1:11434/api/embeddings \"HTTP/1.1 200 OK\"\n",
      "INFO:httpx:HTTP Request: POST http://127.0.0.1:11434/api/embeddings \"HTTP/1.1 200 OK\"\n",
      "INFO:httpx:HTTP Request: POST http://127.0.0.1:11434/api/embeddings \"HTTP/1.1 200 OK\"\n",
      "INFO:httpx:HTTP Request: POST http://127.0.0.1:11434/api/embeddings \"HTTP/1.1 200 OK\"\n",
      "INFO:httpx:HTTP Request: POST http://127.0.0.1:11434/api/embeddings \"HTTP/1.1 200 OK\"\n",
      "INFO:httpx:HTTP Request: POST http://127.0.0.1:11434/api/embeddings \"HTTP/1.1 200 OK\"\n",
      "INFO:httpx:HTTP Request: POST http://127.0.0.1:11434/api/embeddings \"HTTP/1.1 200 OK\"\n",
      "INFO:httpx:HTTP Request: POST http://127.0.0.1:11434/api/embeddings \"HTTP/1.1 200 OK\"\n",
      "INFO:httpx:HTTP Request: POST http://127.0.0.1:11434/api/embeddings \"HTTP/1.1 200 OK\"\n",
      "Generating embeddings: 100%|██████████| 2/2 [01:35<00:00, 47.94s/batch]\n",
      "INFO:lightrag:Writing graph with 113 nodes, 79 edges\n"
     ]
    }
   ],
   "source": [
    "insert_custom_kg_safely(rag, custom_kg)"
   ],
   "metadata": {
    "collapsed": false,
    "ExecuteTime": {
     "end_time": "2024-12-28T12:06:26.190822500Z",
     "start_time": "2024-12-28T12:02:43.228490100Z"
    }
   },
   "id": "e82736f08779ac58"
  },
  {
   "cell_type": "code",
   "execution_count": 27,
   "outputs": [
    {
     "name": "stderr",
     "output_type": "stream",
     "text": [
      "INFO:httpx:HTTP Request: POST https://models.inference.ai.azure.com/chat/completions \"HTTP/1.1 200 OK\"\n",
      "INFO:lightrag:kw_prompt result:\n"
     ]
    },
    {
     "name": "stdout",
     "output_type": "stream",
     "text": [
      "{  \n",
      "  \"high_level_keywords\": [\"Romeo\", \"Character identification\", \"Fiction\"],  \n",
      "  \"low_level_keywords\": [\"Shakespeare\", \"Romeo and Juliet\", \"Literary character\"]  \n",
      "}\n"
     ]
    },
    {
     "name": "stderr",
     "output_type": "stream",
     "text": [
      "INFO:httpx:HTTP Request: POST http://127.0.0.1:11434/api/embeddings \"HTTP/1.1 200 OK\"\n",
      "INFO:lightrag:Local query uses 52 entites, 45 relations, 1 text units\n",
      "INFO:httpx:HTTP Request: POST http://127.0.0.1:11434/api/embeddings \"HTTP/1.1 200 OK\"\n",
      "INFO:lightrag:Global query uses 50 entites, 60 relations, 1 text units\n",
      "INFO:httpx:HTTP Request: POST https://models.inference.ai.azure.com/chat/completions \"HTTP/1.1 200 OK\"\n"
     ]
    },
    {
     "name": "stdout",
     "output_type": "stream",
     "text": [
      "Romeo is a central character in *\"The Tragedy of Romeo and Juliet\"*, a play written by William Shakespeare. He is a young man from the Montague family, one of the two noble households in Verona involved in a longstanding feud with the Capulets. As the son of Lord and Lady Montague, Romeo plays a significant role in the story's plot and themes, embodying the intense passion and impulsive nature of young love.\n",
      "\n",
      "### Key Relationships and Role\n",
      "Romeo is introduced as a romantic idealist, deeply infatuated with the idea of love. Initially, he pines for Rosaline, a woman who does not return his affections. However, his affections transfer swiftly and intensely when he meets Juliet, the daughter of Lord and Lady Capulet, during a chance encounter at a Capulet feast. This meeting sparks a whirlwind romance, and Romeo quickly becomes Juliet's lover and husband in secret.\n",
      "\n",
      "Several crucial relationships shape Romeo's character throughout the play:\n",
      "- **Juliet**: Juliet is the love of Romeo's life. Their relationship defies the bitter feud between the Montagues and Capulets, epitomizing the theme of forbidden love.\n",
      "- **Montague Family**: Romeo is the only son of the Montagues, and his family's enmity with the Capulets sets the stage for much of the conflict in the story.\n",
      "- **Benvolio and Mercutio**: Romeo shares a close bond with his cousin Benvolio and his friend Mercutio. They provide loyalty and companionship, though their contrasting personalities highlight Romeo's introspective and impulsive nature.\n",
      "- **Friar Lawrence**: Romeo seeks counsel and assistance from Friar Lawrence, who serves as a confidant and facilitator of Romeo and Juliet's secret marriage.\n",
      "\n",
      "### Actions in the Story\n",
      "Throughout the play, Romeo makes several pivotal decisions that drive the narrative. For instance, his impulsive reaction to kill Tybalt (Juliet's cousin) leads to his banishment from Verona and escalates the tragedy significantly. His eventual decision to take his own life upon believing Juliet is dead seals the play’s tragic conclusion.\n",
      "\n",
      "### Themes Associated with Romeo\n",
      "Romeo symbolizes the intensity of youthful passion, acting as a vehicle for exploring themes of love, fate, and conflict. His actions demonstrate the vulnerability of human emotions in the face of societal pressure and familial expectations.\n",
      "\n",
      "In short, Romeo is a complex character whose romantic fervor and impetuous decisions contribute both to the beauty and the tragedy of Shakespeare’s iconic story.\n"
     ]
    }
   ],
   "source": [
    "print(rag.query(\"who is romeo?\", param=QueryParam(mode=\"hybrid\")))"
   ],
   "metadata": {
    "collapsed": false,
    "ExecuteTime": {
     "end_time": "2024-12-28T12:08:23.532200700Z",
     "start_time": "2024-12-28T12:07:44.846490500Z"
    }
   },
   "id": "73a23cc4cffdfe4c"
  },
  {
   "cell_type": "code",
   "execution_count": 29,
   "outputs": [],
   "source": [
    "# Visualize the knowledge graph\n",
    "import networkx as nx\n",
    "from pyvis.network import Network"
   ],
   "metadata": {
    "collapsed": false,
    "ExecuteTime": {
     "end_time": "2024-12-28T15:13:13.035039900Z",
     "start_time": "2024-12-28T15:13:12.979827400Z"
    }
   },
   "id": "4fa5afc3cc47dc06"
  },
  {
   "cell_type": "code",
   "execution_count": 34,
   "outputs": [
    {
     "name": "stdout",
     "output_type": "stream",
     "text": [
      "Warning: When  cdn_resources is 'local' jupyter notebook has issues displaying graphics on chrome/safari. Use cdn_resources='in_line' or cdn_resources='remote' if you have issues viewing graphics in a notebook.\n",
      "knowledge_graph.html\n"
     ]
    },
    {
     "data": {
      "text/plain": "<IPython.lib.display.IFrame at 0x275ded85550>",
      "text/html": "\n        <iframe\n            width=\"100%\"\n            height=\"600px\"\n            src=\"knowledge_graph.html\"\n            frameborder=\"0\"\n            allowfullscreen\n            \n        ></iframe>\n        "
     },
     "execution_count": 34,
     "metadata": {},
     "output_type": "execute_result"
    }
   ],
   "source": [
    "# Load the GraphML file\n",
    "G = nx.read_graphml('./test/graph_chunk_entity_relation.graphml')\n",
    "\n",
    "# Create a Pyvis network\n",
    "net = Network(notebook=True,bgcolor=\"#f2e0e0\",font_color=\"black\")\n",
    "\n",
    "# Convert NetworkX graph to Pyvis network\n",
    "net.from_nx(G)\n",
    "\n",
    "# Save and display the network\n",
    "net.show('knowledge_graph.html')"
   ],
   "metadata": {
    "collapsed": false,
    "ExecuteTime": {
     "end_time": "2024-12-28T15:33:22.945705700Z",
     "start_time": "2024-12-28T15:33:22.877878300Z"
    }
   },
   "id": "ad59b7add382e23e"
  },
  {
   "cell_type": "code",
   "execution_count": null,
   "outputs": [],
   "source": [],
   "metadata": {
    "collapsed": false
   },
   "id": "70af47fdc254859f"
  }
 ],
 "metadata": {
  "kernelspec": {
   "display_name": "Python 3",
   "language": "python",
   "name": "python3"
  },
  "language_info": {
   "codemirror_mode": {
    "name": "ipython",
    "version": 2
   },
   "file_extension": ".py",
   "mimetype": "text/x-python",
   "name": "python",
   "nbconvert_exporter": "python",
   "pygments_lexer": "ipython2",
   "version": "2.7.6"
  }
 },
 "nbformat": 4,
 "nbformat_minor": 5
}
